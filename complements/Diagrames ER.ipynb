{
 "cells": [
  {
   "cell_type": "code",
   "execution_count": 1,
   "id": "afdb9a8b",
   "metadata": {
    "ExecuteTime": {
     "end_time": "2021-09-15T12:29:52.462436Z",
     "start_time": "2021-09-15T12:29:52.446340Z"
    },
    "init_cell": true
   },
   "outputs": [],
   "source": [
    "import iplantuml"
   ]
  },
  {
   "cell_type": "markdown",
   "id": "ea718cc2",
   "metadata": {},
   "source": [
    "# Diagrames ER"
   ]
  },
  {
   "cell_type": "markdown",
   "id": "d6e6c734",
   "metadata": {},
   "source": [
    "## DER: definició"
   ]
  },
  {
   "cell_type": "markdown",
   "id": "ed9b4746",
   "metadata": {},
   "source": [
    "Un DER o diagrama ER (Entitat - Relació) és una eina per a **modelar les dades** d'un sistema d'informació.\n",
    "\n",
    "> En el nostre cas, el diagrama ER **modelarà allò que haurà de contenir la base de dades** _a partir d'allò que se'ns demani a l'enunciat d'un problema_."
   ]
  },
  {
   "cell_type": "markdown",
   "id": "21b8d660",
   "metadata": {},
   "source": [
    "## DER: elements"
   ]
  },
  {
   "cell_type": "markdown",
   "id": "1a68a0d2",
   "metadata": {},
   "source": [
    "El model representat per un DER ha de representar els elements rellevants del sistema d'informació (en el nostre cas, d'un problema que se'ns planteja resoldre). Aquests elements poden ser:\n",
    "\n",
    "- **Entitats**, que modelen objectes de món real.\n",
    "\n",
    "- Les **propietats** d'aquestes entitats (per exemple, les seves característiques físiques).\n",
    "\n",
    "- Les **interrelacions** entre les entitats."
   ]
  },
  {
   "cell_type": "markdown",
   "id": "48eebb6e",
   "metadata": {
    "ExecuteTime": {
     "end_time": "2021-08-07T18:14:09.735016Z",
     "start_time": "2021-08-07T18:14:09.726354Z"
    }
   },
   "source": [
    "_A tenir en compte_: \n",
    "\n",
    "> No hi ha una fórmula màgica per a generar correctament i perfecte un model Entitat-Relació. Com amb la majoria de coses, cal certa pràctica i experiència fins aconseguir que els nostres models siguin realment bons.\n",
    "\n",
    "> Això és degut al fet que els problemes reals que se'ns plantegen són plens de matisos i hem de prendre certes **decisions de disseny** a l'hora de crear el DER, les quals poden ser millors o pitjors, i només el temps i l'evolució del sistema ho determinaran."
   ]
  },
  {
   "cell_type": "markdown",
   "id": "5af20c83",
   "metadata": {},
   "source": [
    "### Exemple d'entitat d'un DER generat amb l'eina plantuml"
   ]
  },
  {
   "cell_type": "code",
   "execution_count": 24,
   "id": "cfdce28d",
   "metadata": {
    "ExecuteTime": {
     "end_time": "2021-08-07T18:36:14.961990Z",
     "start_time": "2021-08-07T18:36:13.488195Z"
    },
    "code_folding": [
     0
    ],
    "run_control": {
     "marked": false
    }
   },
   "outputs": [
    {
     "data": {
      "image/svg+xml": [
       "<svg xmlns=\"http://www.w3.org/2000/svg\" xmlns:xlink=\"http://www.w3.org/1999/xlink\" contentScriptType=\"application/ecmascript\" contentStyleType=\"text/css\" height=\"107px\" preserveAspectRatio=\"none\" style=\"width:159px;height:107px;background:#FFFFFF;\" version=\"1.1\" viewBox=\"0 0 159 107\" width=\"159px\" zoomAndPan=\"magnify\"><defs><filter height=\"300%\" id=\"f28f28hq3bd6l\" width=\"300%\" x=\"-1\" y=\"-1\"><feGaussianBlur result=\"blurOut\" stdDeviation=\"2.0\"/><feColorMatrix in=\"blurOut\" result=\"blurOut2\" type=\"matrix\" values=\"0 0 0 0 0 0 0 0 0 0 0 0 0 0 0 0 0 0 .4 0\"/><feOffset dx=\"4.0\" dy=\"4.0\" in=\"blurOut2\" result=\"blurOut3\"/><feBlend in=\"SourceGraphic\" in2=\"blurOut3\" mode=\"normal\"/></filter></defs><g><!--MD5=[6178f88bbe623bb523cef0440b7d7572]\n",
       "class Entity01--><rect codeLine=\"1\" fill=\"#FEFECE\" filter=\"url(#f28f28hq3bd6l)\" height=\"86.4141\" id=\"Entity01\" style=\"stroke:#A80036;stroke-width:1.5;\" width=\"138\" x=\"7\" y=\"7\"/><ellipse cx=\"48.55\" cy=\"23\" fill=\"#ADD1B2\" rx=\"11\" ry=\"11\" style=\"stroke:#A80036;stroke-width:1.0;\"/><path d=\"M47.3469,23.875 L48.8,23.875 L48.8,23.9844 C48.8,24.3906 48.8313,24.5469 48.9094,24.7031 C49.0656,24.9531 49.3469,25.1094 49.6438,25.1094 C49.8938,25.1094 50.1594,24.9688 50.3156,24.75 C50.4406,24.5938 50.4719,24.4375 50.4719,23.9844 L50.4719,22.0625 C50.4719,21.9063 50.4719,21.8594 50.4563,21.7031 C50.3938,21.2344 50.0813,20.9219 49.6281,20.9219 C49.3781,20.9219 49.1125,21.0625 48.9406,21.2813 C48.8313,21.4531 48.8,21.6094 48.8,22.0625 L48.8,22.1875 L47.3469,22.1875 L47.3469,19.7813 L51.3313,19.7813 L51.3313,20.6406 C51.3313,21.0469 51.3625,21.2188 51.4406,21.375 C51.6125,21.625 51.8938,21.7813 52.175,21.7813 C52.4406,21.7813 52.7063,21.6406 52.8781,21.4219 C52.9875,21.25 53.0188,21.1094 53.0188,20.6406 L53.0188,18.0938 L45.3938,18.0938 C44.9563,18.0938 44.8313,18.1094 44.675,18.2031 C44.425,18.3594 44.2688,18.6563 44.2688,18.9375 C44.2688,19.2188 44.4094,19.4688 44.6281,19.6406 C44.7844,19.75 44.9719,19.7813 45.3938,19.7813 L45.6438,19.7813 L45.6438,26.2969 L45.3938,26.2969 C44.9875,26.2969 44.8313,26.3125 44.675,26.4219 C44.425,26.5938 44.2688,26.8594 44.2688,27.1563 C44.2688,27.4219 44.4094,27.6719 44.6281,27.8281 C44.7688,27.9531 45.0031,28 45.3938,28 L53.3938,28 L53.3938,25.4219 C53.3938,24.9844 53.3625,24.8438 53.2844,24.6875 C53.1125,24.4375 52.8313,24.2813 52.55,24.2813 C52.2844,24.2813 52.0188,24.3906 51.8469,24.6406 C51.7375,24.7969 51.7063,24.9375 51.7063,25.4219 L51.7063,26.2969 L47.3469,26.2969 L47.3469,23.875 Z \" fill=\"#000000\"/><text fill=\"#000000\" font-family=\"sans-serif\" font-size=\"12\" lengthAdjust=\"spacing\" textLength=\"47\" x=\"68.45\" y=\"27.1543\">Entity01</text><line style=\"stroke:#A80036;stroke-width:1.5;\" x1=\"8\" x2=\"144\" y1=\"39\" y2=\"39\"/><ellipse cx=\"18\" cy=\"50\" fill=\"#000000\" rx=\"3\" ry=\"3\" style=\"stroke:#000000;stroke-width:1.0;\"/><text fill=\"#000000\" font-family=\"sans-serif\" font-size=\"11\" lengthAdjust=\"spacing\" textLength=\"112\" x=\"27\" y=\"53.2104\">atribut_identificador</text><line style=\"stroke:#A80036;stroke-width:1.0;\" x1=\"8\" x2=\"144\" y1=\"59.8047\" y2=\"59.8047\"/><ellipse cx=\"18\" cy=\"70.8047\" fill=\"#000000\" rx=\"3\" ry=\"3\" style=\"stroke:#000000;stroke-width:1.0;\"/><text fill=\"#000000\" font-family=\"sans-serif\" font-size=\"11\" lengthAdjust=\"spacing\" textLength=\"94\" x=\"27\" y=\"74.0151\">atribut_obligatori</text><text fill=\"#000000\" font-family=\"sans-serif\" font-size=\"11\" lengthAdjust=\"spacing\" textLength=\"89\" x=\"27\" y=\"86.8198\">atribut_opcional</text><!--MD5=[e7d806281b86621a9fe085166e396da4]\n",
       "@startuml\n",
       "entity Entity01 {\n",
       "  * atribut_identificador\n",
       "  - -\n",
       "  * atribut_obligatori\n",
       "  atribut_opcional\n",
       "}\n",
       "@enduml\n",
       "\n",
       "PlantUML version 1.2021.10beta2(Unknown compile time)\n",
       "(GPL source distribution)\n",
       "Java Runtime: Java(TM) SE Runtime Environment\n",
       "JVM: Java HotSpot(TM) 64-Bit Server VM\n",
       "Default Encoding: UTF-8\n",
       "Language: en\n",
       "Country: US\n",
       "--></g></svg>"
      ],
      "text/plain": [
       "<IPython.core.display.SVG object>"
      ]
     },
     "execution_count": 24,
     "metadata": {},
     "output_type": "execute_result"
    }
   ],
   "source": [
    "%%plantuml\n",
    "\n",
    "@startuml\n",
    "entity Entity01 {\n",
    "  * atribut_identificador\n",
    "  --\n",
    "  * atribut_obligatori\n",
    "  atribut_opcional\n",
    "}\n",
    "@enduml"
   ]
  },
  {
   "cell_type": "markdown",
   "id": "67f7160e",
   "metadata": {},
   "source": [
    "### Exemples de relacions entre entitats d'un DER"
   ]
  },
  {
   "cell_type": "code",
   "execution_count": 25,
   "id": "fae9d6f5",
   "metadata": {
    "ExecuteTime": {
     "end_time": "2021-08-07T18:37:45.765412Z",
     "start_time": "2021-08-07T18:37:44.069672Z"
    },
    "code_folding": [
     0
    ],
    "run_control": {
     "marked": false
    }
   },
   "outputs": [
    {
     "data": {
      "image/svg+xml": [
       "<svg xmlns=\"http://www.w3.org/2000/svg\" xmlns:xlink=\"http://www.w3.org/1999/xlink\" contentScriptType=\"application/ecmascript\" contentStyleType=\"text/css\" height=\"177px\" preserveAspectRatio=\"none\" style=\"width:446px;height:177px;background:#FFFFFF;\" version=\"1.1\" viewBox=\"0 0 446 177\" width=\"446px\" zoomAndPan=\"magnify\"><defs><filter height=\"300%\" id=\"fd1o5ssdzg7uv\" width=\"300%\" x=\"-1\" y=\"-1\"><feGaussianBlur result=\"blurOut\" stdDeviation=\"2.0\"/><feColorMatrix in=\"blurOut\" result=\"blurOut2\" type=\"matrix\" values=\"0 0 0 0 0 0 0 0 0 0 0 0 0 0 0 0 0 0 .4 0\"/><feOffset dx=\"4.0\" dy=\"4.0\" in=\"blurOut2\" result=\"blurOut3\"/><feBlend in=\"SourceGraphic\" in2=\"blurOut3\" mode=\"normal\"/></filter></defs><g><!--MD5=[6178f88bbe623bb523cef0440b7d7572]\n",
       "class Entity01--><rect fill=\"#FEFECE\" filter=\"url(#fd1o5ssdzg7uv)\" height=\"48\" id=\"Entity01\" style=\"stroke:#A80036;stroke-width:1.5;\" width=\"79\" x=\"7.5\" y=\"7\"/><ellipse cx=\"22.5\" cy=\"23\" fill=\"#ADD1B2\" rx=\"11\" ry=\"11\" style=\"stroke:#A80036;stroke-width:1.0;\"/><path d=\"M24.8438,18.6719 C23.9063,18.2344 23.3125,18.0938 22.4375,18.0938 C19.8125,18.0938 17.8125,20.1719 17.8125,22.8906 L17.8125,24.0156 C17.8125,26.5938 19.9219,28.4844 22.8125,28.4844 C24.0313,28.4844 25.1875,28.1875 25.9375,27.6406 C26.5156,27.2344 26.8438,26.7813 26.8438,26.3906 C26.8438,25.9375 26.4531,25.5469 25.9844,25.5469 C25.7656,25.5469 25.5625,25.625 25.375,25.8125 C24.9219,26.2969 24.9219,26.2969 24.7344,26.3906 C24.3125,26.6563 23.625,26.7813 22.8594,26.7813 C20.8125,26.7813 19.5156,25.6875 19.5156,23.9844 L19.5156,22.8906 C19.5156,21.1094 20.7656,19.7969 22.5,19.7969 C23.0781,19.7969 23.6875,19.9531 24.1563,20.2031 C24.6406,20.4844 24.8125,20.7031 24.9063,21.1094 C24.9688,21.5156 25,21.6406 25.1406,21.7656 C25.2813,21.9063 25.5156,22.0156 25.7344,22.0156 C26,22.0156 26.2656,21.875 26.4375,21.6563 C26.5469,21.5 26.5781,21.3125 26.5781,20.8906 L26.5781,19.4688 C26.5781,19.0313 26.5625,18.9063 26.4688,18.75 C26.3125,18.4844 26.0313,18.3438 25.7344,18.3438 C25.4375,18.3438 25.2344,18.4375 25.0156,18.75 L24.8438,18.6719 Z \" fill=\"#000000\"/><text fill=\"#000000\" font-family=\"sans-serif\" font-size=\"12\" lengthAdjust=\"spacing\" textLength=\"47\" x=\"36.5\" y=\"27.1543\">Entity01</text><line style=\"stroke:#A80036;stroke-width:1.5;\" x1=\"8.5\" x2=\"85.5\" y1=\"39\" y2=\"39\"/><line style=\"stroke:#A80036;stroke-width:1.5;\" x1=\"8.5\" x2=\"85.5\" y1=\"47\" y2=\"47\"/><!--MD5=[f4074c741a004a9c45fd03a31f8b9b03]\n",
       "class Entity02--><rect fill=\"#FEFECE\" filter=\"url(#fd1o5ssdzg7uv)\" height=\"48\" id=\"Entity02\" style=\"stroke:#A80036;stroke-width:1.5;\" width=\"80\" x=\"7\" y=\"115\"/><ellipse cx=\"22\" cy=\"131\" fill=\"#ADD1B2\" rx=\"11\" ry=\"11\" style=\"stroke:#A80036;stroke-width:1.0;\"/><path d=\"M24.3438,126.6719 C23.4063,126.2344 22.8125,126.0938 21.9375,126.0938 C19.3125,126.0938 17.3125,128.1719 17.3125,130.8906 L17.3125,132.0156 C17.3125,134.5938 19.4219,136.4844 22.3125,136.4844 C23.5313,136.4844 24.6875,136.1875 25.4375,135.6406 C26.0156,135.2344 26.3438,134.7813 26.3438,134.3906 C26.3438,133.9375 25.9531,133.5469 25.4844,133.5469 C25.2656,133.5469 25.0625,133.625 24.875,133.8125 C24.4219,134.2969 24.4219,134.2969 24.2344,134.3906 C23.8125,134.6563 23.125,134.7813 22.3594,134.7813 C20.3125,134.7813 19.0156,133.6875 19.0156,131.9844 L19.0156,130.8906 C19.0156,129.1094 20.2656,127.7969 22,127.7969 C22.5781,127.7969 23.1875,127.9531 23.6563,128.2031 C24.1406,128.4844 24.3125,128.7031 24.4063,129.1094 C24.4688,129.5156 24.5,129.6406 24.6406,129.7656 C24.7813,129.9063 25.0156,130.0156 25.2344,130.0156 C25.5,130.0156 25.7656,129.875 25.9375,129.6563 C26.0469,129.5 26.0781,129.3125 26.0781,128.8906 L26.0781,127.4688 C26.0781,127.0313 26.0625,126.9063 25.9688,126.75 C25.8125,126.4844 25.5313,126.3438 25.2344,126.3438 C24.9375,126.3438 24.7344,126.4375 24.5156,126.75 L24.3438,126.6719 Z \" fill=\"#000000\"/><text fill=\"#000000\" font-family=\"sans-serif\" font-size=\"12\" lengthAdjust=\"spacing\" textLength=\"48\" x=\"36\" y=\"135.1543\">Entity02</text><line style=\"stroke:#A80036;stroke-width:1.5;\" x1=\"8\" x2=\"86\" y1=\"147\" y2=\"147\"/><line style=\"stroke:#A80036;stroke-width:1.5;\" x1=\"8\" x2=\"86\" y1=\"155\" y2=\"155\"/><!--MD5=[bc1ecf3a155b5be2b6a42d90148215d2]\n",
       "class Entity03--><rect fill=\"#FEFECE\" filter=\"url(#fd1o5ssdzg7uv)\" height=\"48\" id=\"Entity03\" style=\"stroke:#A80036;stroke-width:1.5;\" width=\"80\" x=\"122\" y=\"7\"/><ellipse cx=\"137\" cy=\"23\" fill=\"#ADD1B2\" rx=\"11\" ry=\"11\" style=\"stroke:#A80036;stroke-width:1.0;\"/><path d=\"M139.3438,18.6719 C138.4063,18.2344 137.8125,18.0938 136.9375,18.0938 C134.3125,18.0938 132.3125,20.1719 132.3125,22.8906 L132.3125,24.0156 C132.3125,26.5938 134.4219,28.4844 137.3125,28.4844 C138.5313,28.4844 139.6875,28.1875 140.4375,27.6406 C141.0156,27.2344 141.3438,26.7813 141.3438,26.3906 C141.3438,25.9375 140.9531,25.5469 140.4844,25.5469 C140.2656,25.5469 140.0625,25.625 139.875,25.8125 C139.4219,26.2969 139.4219,26.2969 139.2344,26.3906 C138.8125,26.6563 138.125,26.7813 137.3594,26.7813 C135.3125,26.7813 134.0156,25.6875 134.0156,23.9844 L134.0156,22.8906 C134.0156,21.1094 135.2656,19.7969 137,19.7969 C137.5781,19.7969 138.1875,19.9531 138.6563,20.2031 C139.1406,20.4844 139.3125,20.7031 139.4063,21.1094 C139.4688,21.5156 139.5,21.6406 139.6406,21.7656 C139.7813,21.9063 140.0156,22.0156 140.2344,22.0156 C140.5,22.0156 140.7656,21.875 140.9375,21.6563 C141.0469,21.5 141.0781,21.3125 141.0781,20.8906 L141.0781,19.4688 C141.0781,19.0313 141.0625,18.9063 140.9688,18.75 C140.8125,18.4844 140.5313,18.3438 140.2344,18.3438 C139.9375,18.3438 139.7344,18.4375 139.5156,18.75 L139.3438,18.6719 Z \" fill=\"#000000\"/><text fill=\"#000000\" font-family=\"sans-serif\" font-size=\"12\" lengthAdjust=\"spacing\" textLength=\"48\" x=\"151\" y=\"27.1543\">Entity03</text><line style=\"stroke:#A80036;stroke-width:1.5;\" x1=\"123\" x2=\"201\" y1=\"39\" y2=\"39\"/><line style=\"stroke:#A80036;stroke-width:1.5;\" x1=\"123\" x2=\"201\" y1=\"47\" y2=\"47\"/><!--MD5=[2d2d2c8cadf0cbcf723339c97359309c]\n",
       "class Entity04--><rect fill=\"#FEFECE\" filter=\"url(#fd1o5ssdzg7uv)\" height=\"48\" id=\"Entity04\" style=\"stroke:#A80036;stroke-width:1.5;\" width=\"80\" x=\"122\" y=\"115\"/><ellipse cx=\"137\" cy=\"131\" fill=\"#ADD1B2\" rx=\"11\" ry=\"11\" style=\"stroke:#A80036;stroke-width:1.0;\"/><path d=\"M139.3438,126.6719 C138.4063,126.2344 137.8125,126.0938 136.9375,126.0938 C134.3125,126.0938 132.3125,128.1719 132.3125,130.8906 L132.3125,132.0156 C132.3125,134.5938 134.4219,136.4844 137.3125,136.4844 C138.5313,136.4844 139.6875,136.1875 140.4375,135.6406 C141.0156,135.2344 141.3438,134.7813 141.3438,134.3906 C141.3438,133.9375 140.9531,133.5469 140.4844,133.5469 C140.2656,133.5469 140.0625,133.625 139.875,133.8125 C139.4219,134.2969 139.4219,134.2969 139.2344,134.3906 C138.8125,134.6563 138.125,134.7813 137.3594,134.7813 C135.3125,134.7813 134.0156,133.6875 134.0156,131.9844 L134.0156,130.8906 C134.0156,129.1094 135.2656,127.7969 137,127.7969 C137.5781,127.7969 138.1875,127.9531 138.6563,128.2031 C139.1406,128.4844 139.3125,128.7031 139.4063,129.1094 C139.4688,129.5156 139.5,129.6406 139.6406,129.7656 C139.7813,129.9063 140.0156,130.0156 140.2344,130.0156 C140.5,130.0156 140.7656,129.875 140.9375,129.6563 C141.0469,129.5 141.0781,129.3125 141.0781,128.8906 L141.0781,127.4688 C141.0781,127.0313 141.0625,126.9063 140.9688,126.75 C140.8125,126.4844 140.5313,126.3438 140.2344,126.3438 C139.9375,126.3438 139.7344,126.4375 139.5156,126.75 L139.3438,126.6719 Z \" fill=\"#000000\"/><text fill=\"#000000\" font-family=\"sans-serif\" font-size=\"12\" lengthAdjust=\"spacing\" textLength=\"48\" x=\"151\" y=\"135.1543\">Entity04</text><line style=\"stroke:#A80036;stroke-width:1.5;\" x1=\"123\" x2=\"201\" y1=\"147\" y2=\"147\"/><line style=\"stroke:#A80036;stroke-width:1.5;\" x1=\"123\" x2=\"201\" y1=\"155\" y2=\"155\"/><!--MD5=[df017a8854864e8c7519c60f4c6c8bea]\n",
       "class Entity05--><rect fill=\"#FEFECE\" filter=\"url(#fd1o5ssdzg7uv)\" height=\"48\" id=\"Entity05\" style=\"stroke:#A80036;stroke-width:1.5;\" width=\"80\" x=\"237\" y=\"7\"/><ellipse cx=\"252\" cy=\"23\" fill=\"#ADD1B2\" rx=\"11\" ry=\"11\" style=\"stroke:#A80036;stroke-width:1.0;\"/><path d=\"M254.3438,18.6719 C253.4063,18.2344 252.8125,18.0938 251.9375,18.0938 C249.3125,18.0938 247.3125,20.1719 247.3125,22.8906 L247.3125,24.0156 C247.3125,26.5938 249.4219,28.4844 252.3125,28.4844 C253.5313,28.4844 254.6875,28.1875 255.4375,27.6406 C256.0156,27.2344 256.3438,26.7813 256.3438,26.3906 C256.3438,25.9375 255.9531,25.5469 255.4844,25.5469 C255.2656,25.5469 255.0625,25.625 254.875,25.8125 C254.4219,26.2969 254.4219,26.2969 254.2344,26.3906 C253.8125,26.6563 253.125,26.7813 252.3594,26.7813 C250.3125,26.7813 249.0156,25.6875 249.0156,23.9844 L249.0156,22.8906 C249.0156,21.1094 250.2656,19.7969 252,19.7969 C252.5781,19.7969 253.1875,19.9531 253.6563,20.2031 C254.1406,20.4844 254.3125,20.7031 254.4063,21.1094 C254.4688,21.5156 254.5,21.6406 254.6406,21.7656 C254.7813,21.9063 255.0156,22.0156 255.2344,22.0156 C255.5,22.0156 255.7656,21.875 255.9375,21.6563 C256.0469,21.5 256.0781,21.3125 256.0781,20.8906 L256.0781,19.4688 C256.0781,19.0313 256.0625,18.9063 255.9688,18.75 C255.8125,18.4844 255.5313,18.3438 255.2344,18.3438 C254.9375,18.3438 254.7344,18.4375 254.5156,18.75 L254.3438,18.6719 Z \" fill=\"#000000\"/><text fill=\"#000000\" font-family=\"sans-serif\" font-size=\"12\" lengthAdjust=\"spacing\" textLength=\"48\" x=\"266\" y=\"27.1543\">Entity05</text><line style=\"stroke:#A80036;stroke-width:1.5;\" x1=\"238\" x2=\"316\" y1=\"39\" y2=\"39\"/><line style=\"stroke:#A80036;stroke-width:1.5;\" x1=\"238\" x2=\"316\" y1=\"47\" y2=\"47\"/><!--MD5=[e188ef918634b4e3675ccb46cc0e364c]\n",
       "class Entity06--><rect fill=\"#FEFECE\" filter=\"url(#fd1o5ssdzg7uv)\" height=\"48\" id=\"Entity06\" style=\"stroke:#A80036;stroke-width:1.5;\" width=\"80\" x=\"237\" y=\"115\"/><ellipse cx=\"252\" cy=\"131\" fill=\"#ADD1B2\" rx=\"11\" ry=\"11\" style=\"stroke:#A80036;stroke-width:1.0;\"/><path d=\"M254.3438,126.6719 C253.4063,126.2344 252.8125,126.0938 251.9375,126.0938 C249.3125,126.0938 247.3125,128.1719 247.3125,130.8906 L247.3125,132.0156 C247.3125,134.5938 249.4219,136.4844 252.3125,136.4844 C253.5313,136.4844 254.6875,136.1875 255.4375,135.6406 C256.0156,135.2344 256.3438,134.7813 256.3438,134.3906 C256.3438,133.9375 255.9531,133.5469 255.4844,133.5469 C255.2656,133.5469 255.0625,133.625 254.875,133.8125 C254.4219,134.2969 254.4219,134.2969 254.2344,134.3906 C253.8125,134.6563 253.125,134.7813 252.3594,134.7813 C250.3125,134.7813 249.0156,133.6875 249.0156,131.9844 L249.0156,130.8906 C249.0156,129.1094 250.2656,127.7969 252,127.7969 C252.5781,127.7969 253.1875,127.9531 253.6563,128.2031 C254.1406,128.4844 254.3125,128.7031 254.4063,129.1094 C254.4688,129.5156 254.5,129.6406 254.6406,129.7656 C254.7813,129.9063 255.0156,130.0156 255.2344,130.0156 C255.5,130.0156 255.7656,129.875 255.9375,129.6563 C256.0469,129.5 256.0781,129.3125 256.0781,128.8906 L256.0781,127.4688 C256.0781,127.0313 256.0625,126.9063 255.9688,126.75 C255.8125,126.4844 255.5313,126.3438 255.2344,126.3438 C254.9375,126.3438 254.7344,126.4375 254.5156,126.75 L254.3438,126.6719 Z \" fill=\"#000000\"/><text fill=\"#000000\" font-family=\"sans-serif\" font-size=\"12\" lengthAdjust=\"spacing\" textLength=\"48\" x=\"266\" y=\"135.1543\">Entity06</text><line style=\"stroke:#A80036;stroke-width:1.5;\" x1=\"238\" x2=\"316\" y1=\"147\" y2=\"147\"/><line style=\"stroke:#A80036;stroke-width:1.5;\" x1=\"238\" x2=\"316\" y1=\"155\" y2=\"155\"/><!--MD5=[0811b4726bb2e806a3e81ecfdf10c6b1]\n",
       "class Entity07--><rect fill=\"#FEFECE\" filter=\"url(#fd1o5ssdzg7uv)\" height=\"48\" id=\"Entity07\" style=\"stroke:#A80036;stroke-width:1.5;\" width=\"80\" x=\"352\" y=\"7\"/><ellipse cx=\"367\" cy=\"23\" fill=\"#ADD1B2\" rx=\"11\" ry=\"11\" style=\"stroke:#A80036;stroke-width:1.0;\"/><path d=\"M369.3438,18.6719 C368.4063,18.2344 367.8125,18.0938 366.9375,18.0938 C364.3125,18.0938 362.3125,20.1719 362.3125,22.8906 L362.3125,24.0156 C362.3125,26.5938 364.4219,28.4844 367.3125,28.4844 C368.5313,28.4844 369.6875,28.1875 370.4375,27.6406 C371.0156,27.2344 371.3438,26.7813 371.3438,26.3906 C371.3438,25.9375 370.9531,25.5469 370.4844,25.5469 C370.2656,25.5469 370.0625,25.625 369.875,25.8125 C369.4219,26.2969 369.4219,26.2969 369.2344,26.3906 C368.8125,26.6563 368.125,26.7813 367.3594,26.7813 C365.3125,26.7813 364.0156,25.6875 364.0156,23.9844 L364.0156,22.8906 C364.0156,21.1094 365.2656,19.7969 367,19.7969 C367.5781,19.7969 368.1875,19.9531 368.6563,20.2031 C369.1406,20.4844 369.3125,20.7031 369.4063,21.1094 C369.4688,21.5156 369.5,21.6406 369.6406,21.7656 C369.7813,21.9063 370.0156,22.0156 370.2344,22.0156 C370.5,22.0156 370.7656,21.875 370.9375,21.6563 C371.0469,21.5 371.0781,21.3125 371.0781,20.8906 L371.0781,19.4688 C371.0781,19.0313 371.0625,18.9063 370.9688,18.75 C370.8125,18.4844 370.5313,18.3438 370.2344,18.3438 C369.9375,18.3438 369.7344,18.4375 369.5156,18.75 L369.3438,18.6719 Z \" fill=\"#000000\"/><text fill=\"#000000\" font-family=\"sans-serif\" font-size=\"12\" lengthAdjust=\"spacing\" textLength=\"48\" x=\"381\" y=\"27.1543\">Entity07</text><line style=\"stroke:#A80036;stroke-width:1.5;\" x1=\"353\" x2=\"431\" y1=\"39\" y2=\"39\"/><line style=\"stroke:#A80036;stroke-width:1.5;\" x1=\"353\" x2=\"431\" y1=\"47\" y2=\"47\"/><!--MD5=[c9f4016e116c1649eb8173279124ba5a]\n",
       "class Entity08--><rect fill=\"#FEFECE\" filter=\"url(#fd1o5ssdzg7uv)\" height=\"48\" id=\"Entity08\" style=\"stroke:#A80036;stroke-width:1.5;\" width=\"80\" x=\"352\" y=\"115\"/><ellipse cx=\"367\" cy=\"131\" fill=\"#ADD1B2\" rx=\"11\" ry=\"11\" style=\"stroke:#A80036;stroke-width:1.0;\"/><path d=\"M369.3438,126.6719 C368.4063,126.2344 367.8125,126.0938 366.9375,126.0938 C364.3125,126.0938 362.3125,128.1719 362.3125,130.8906 L362.3125,132.0156 C362.3125,134.5938 364.4219,136.4844 367.3125,136.4844 C368.5313,136.4844 369.6875,136.1875 370.4375,135.6406 C371.0156,135.2344 371.3438,134.7813 371.3438,134.3906 C371.3438,133.9375 370.9531,133.5469 370.4844,133.5469 C370.2656,133.5469 370.0625,133.625 369.875,133.8125 C369.4219,134.2969 369.4219,134.2969 369.2344,134.3906 C368.8125,134.6563 368.125,134.7813 367.3594,134.7813 C365.3125,134.7813 364.0156,133.6875 364.0156,131.9844 L364.0156,130.8906 C364.0156,129.1094 365.2656,127.7969 367,127.7969 C367.5781,127.7969 368.1875,127.9531 368.6563,128.2031 C369.1406,128.4844 369.3125,128.7031 369.4063,129.1094 C369.4688,129.5156 369.5,129.6406 369.6406,129.7656 C369.7813,129.9063 370.0156,130.0156 370.2344,130.0156 C370.5,130.0156 370.7656,129.875 370.9375,129.6563 C371.0469,129.5 371.0781,129.3125 371.0781,128.8906 L371.0781,127.4688 C371.0781,127.0313 371.0625,126.9063 370.9688,126.75 C370.8125,126.4844 370.5313,126.3438 370.2344,126.3438 C369.9375,126.3438 369.7344,126.4375 369.5156,126.75 L369.3438,126.6719 Z \" fill=\"#000000\"/><text fill=\"#000000\" font-family=\"sans-serif\" font-size=\"12\" lengthAdjust=\"spacing\" textLength=\"48\" x=\"381\" y=\"135.1543\">Entity08</text><line style=\"stroke:#A80036;stroke-width:1.5;\" x1=\"353\" x2=\"431\" y1=\"147\" y2=\"147\"/><line style=\"stroke:#A80036;stroke-width:1.5;\" x1=\"353\" x2=\"431\" y1=\"155\" y2=\"155\"/><!--MD5=[aa65acfa580fda55ed56c41e76710f9e]\n",
       "link Entity01 to Entity02--><path codeLine=\"1\" d=\"M47,63.2585 C47,76.8932 47,92.8501 47,106.5107 \" fill=\"none\" id=\"Entity01-Entity02\" style=\"stroke:#A80036;stroke-width:1.0;stroke-dasharray:7.0,7.0;\"/><line style=\"stroke:#A80036;stroke-width:1.0;\" x1=\"51\" x2=\"43\" y1=\"110.6784\" y2=\"110.6784\"/><line style=\"stroke:#A80036;stroke-width:1.0;\" x1=\"51\" x2=\"43\" y1=\"107.6784\" y2=\"107.6784\"/><line style=\"stroke:#A80036;stroke-width:1.0;\" x1=\"47\" x2=\"47\" y1=\"106.6784\" y2=\"114.6784\"/><line style=\"stroke:#A80036;stroke-width:1.0;\" x1=\"47\" x2=\"41\" y1=\"63\" y2=\"55\"/><line style=\"stroke:#A80036;stroke-width:1.0;\" x1=\"47\" x2=\"53\" y1=\"63\" y2=\"55\"/><line style=\"stroke:#A80036;stroke-width:1.0;\" x1=\"47\" x2=\"47\" y1=\"63\" y2=\"55\"/><line style=\"stroke:#A80036;stroke-width:1.0;\" x1=\"43\" x2=\"51\" y1=\"65\" y2=\"65\"/><!--MD5=[121c25045f65a021b7b7359b5ab947ee]\n",
       "link Entity03 to Entity04--><path codeLine=\"2\" d=\"M162,63.2585 C162,76.8932 162,92.8501 162,106.5107 \" fill=\"none\" id=\"Entity03-Entity04\" style=\"stroke:#A80036;stroke-width:1.0;stroke-dasharray:7.0,7.0;\"/><line style=\"stroke:#A80036;stroke-width:1.0;\" x1=\"162\" x2=\"162\" y1=\"103.6784\" y2=\"114.6784\"/><ellipse cx=\"162\" cy=\"103.6784\" rx=\"4\" ry=\"4\" style=\"stroke:#A80036;stroke-width:1.0;fill:none;\"/><line style=\"stroke:#A80036;stroke-width:1.0;fill:none;\" x1=\"166\" x2=\"158\" y1=\"110.6784\" y2=\"110.6784\"/><line style=\"stroke:#A80036;stroke-width:1.0;fill:none;\" x1=\"162\" x2=\"156\" y1=\"63\" y2=\"55\"/><line style=\"stroke:#A80036;stroke-width:1.0;fill:none;\" x1=\"162\" x2=\"168\" y1=\"63\" y2=\"55\"/><line style=\"stroke:#A80036;stroke-width:1.0;fill:none;\" x1=\"162\" x2=\"162\" y1=\"63\" y2=\"55\"/><ellipse cx=\"162\" cy=\"69\" rx=\"4\" ry=\"4\" style=\"stroke:#A80036;stroke-width:1.0;fill:none;\"/><!--MD5=[3e1350d0fdac45c01a0825d9e99fb4be]\n",
       "link Entity05 to Entity06--><path codeLine=\"3\" d=\"M277,63.2585 C277,76.8932 277,92.8501 277,106.5107 \" fill=\"none\" id=\"Entity05-Entity06\" style=\"stroke:#A80036;stroke-width:1.0;\"/><line style=\"stroke:#A80036;stroke-width:1.0;\" x1=\"277\" x2=\"283\" y1=\"106.6784\" y2=\"114.6784\"/><line style=\"stroke:#A80036;stroke-width:1.0;\" x1=\"277\" x2=\"271\" y1=\"106.6784\" y2=\"114.6784\"/><line style=\"stroke:#A80036;stroke-width:1.0;\" x1=\"277\" x2=\"277\" y1=\"106.6784\" y2=\"114.6784\"/><ellipse cx=\"277\" cy=\"100.6784\" rx=\"4\" ry=\"4\" style=\"stroke:#A80036;stroke-width:1.0;fill:none;\"/><line style=\"stroke:#A80036;stroke-width:1.0;fill:none;\" x1=\"273\" x2=\"281\" y1=\"59\" y2=\"59\"/><line style=\"stroke:#A80036;stroke-width:1.0;fill:none;\" x1=\"273\" x2=\"281\" y1=\"62\" y2=\"62\"/><line style=\"stroke:#A80036;stroke-width:1.0;fill:none;\" x1=\"277\" x2=\"277\" y1=\"63\" y2=\"55\"/><!--MD5=[363bffc439f51b35d57d6ba0bf584fef]\n",
       "link Entity07 to Entity08--><path codeLine=\"4\" d=\"M392,63.2585 C392,76.8932 392,92.8501 392,106.5107 \" fill=\"none\" id=\"Entity07-Entity08\" style=\"stroke:#A80036;stroke-width:1.0;\"/><line style=\"stroke:#A80036;stroke-width:1.0;\" x1=\"396\" x2=\"388\" y1=\"110.6784\" y2=\"110.6784\"/><line style=\"stroke:#A80036;stroke-width:1.0;\" x1=\"396\" x2=\"388\" y1=\"107.6784\" y2=\"107.6784\"/><line style=\"stroke:#A80036;stroke-width:1.0;\" x1=\"392\" x2=\"392\" y1=\"106.6784\" y2=\"114.6784\"/><line style=\"stroke:#A80036;stroke-width:1.0;\" x1=\"392\" x2=\"392\" y1=\"66\" y2=\"55\"/><ellipse cx=\"392\" cy=\"66\" rx=\"4\" ry=\"4\" style=\"stroke:#A80036;stroke-width:1.0;fill:none;\"/><line style=\"stroke:#A80036;stroke-width:1.0;fill:none;\" x1=\"388\" x2=\"396\" y1=\"59\" y2=\"59\"/><!--MD5=[4009bf7fbaa69166231dc673dae0fb44]\n",
       "@startuml\n",
       "Entity01 }|..|| Entity02\n",
       "Entity03 }o..o| Entity04\n",
       "Entity05 ||- -o{ Entity06\n",
       "Entity07 |o- -|| Entity08\n",
       "@enduml\n",
       "\n",
       "PlantUML version 1.2021.10beta2(Unknown compile time)\n",
       "(GPL source distribution)\n",
       "Java Runtime: Java(TM) SE Runtime Environment\n",
       "JVM: Java HotSpot(TM) 64-Bit Server VM\n",
       "Default Encoding: UTF-8\n",
       "Language: en\n",
       "Country: US\n",
       "--></g></svg>"
      ],
      "text/plain": [
       "<IPython.core.display.SVG object>"
      ]
     },
     "execution_count": 25,
     "metadata": {},
     "output_type": "execute_result"
    }
   ],
   "source": [
    "%%plantuml\n",
    "\n",
    "@startuml\n",
    "Entity01 }|..|| Entity02\n",
    "Entity03 }o..o| Entity04\n",
    "Entity05 ||--o{ Entity06\n",
    "Entity07 |o--|| Entity08\n",
    "@enduml"
   ]
  },
  {
   "cell_type": "markdown",
   "id": "8dbb7f78",
   "metadata": {
    "ExecuteTime": {
     "end_time": "2021-08-07T18:40:54.715900Z",
     "start_time": "2021-08-07T18:40:54.711099Z"
    }
   },
   "source": [
    "## Creació d'un DER: Passes"
   ]
  },
  {
   "cell_type": "markdown",
   "id": "17fa0554",
   "metadata": {},
   "source": [
    "Per a realitzar aquesta representació conceptual de la informació s'han de seguir unes determinades passes:\n",
    "\n",
    "1 - **Anàlisi dels requisits**. Habitualment es parteix d'un enunciat on es descriu de manera textual el problema que es vol resoldre o el sistema de informació que s'ha d'implementar.\n",
    "\n",
    "\n",
    "2 - **Detecció dels elements clau**, comunament fent una llista dels\n",
    "substantius i verbs que apareixen (els que es consideren rellevants dins el enunciat).\n",
    "\n",
    "> 2.1. **Els substantius són possibles entitats o atributs d'aquestes**.\n",
    "\n",
    "> 2.2. **Els verbs són candidats a convertir-se en relacions entre les entitats**.\n",
    "\n",
    "\n",
    "3 - **Determinar la cardinalitat de les relacions**, mitjançant l'anàlisi de les frases de l'enunciat o detalls que es mencionen en la descripció del problema.\n",
    "\n",
    "\n",
    "4 - **Elaboració del diagrama** (o diagrames) Entitat-Relació.\n",
    "\n",
    "\n",
    "5 - **Completar el model**. S'han de detallar restriccions i decisions de disseny que no és possible reflectir directament al diagrama."
   ]
  },
  {
   "cell_type": "markdown",
   "id": "2d96dfc3",
   "metadata": {
    "ExecuteTime": {
     "end_time": "2021-08-07T18:51:38.314699Z",
     "start_time": "2021-08-07T18:51:38.309933Z"
    }
   },
   "source": [
    "## Entitats"
   ]
  },
  {
   "cell_type": "markdown",
   "id": "d6f5f7dd",
   "metadata": {},
   "source": [
    "Una entitat representa una \"cosa\" o \"objecte\" del món real que\n",
    "es distingeix de la resta. \n",
    "\n",
    "Pot ser tant un objecte amb existència física (una\n",
    "persona, un animal, una casa, etc.), al que s'anomena **entitat concreta** o bé...\n",
    "\n",
    "...un objecte amb existència conceptual (com un lloc de treball, un\n",
    "assignatura, un nom, etc.), el qual rep el nom d'**entitat abstracta**. \n",
    "\n",
    "A efectes pràctics, no farem servir aquesta distinció."
   ]
  },
  {
   "cell_type": "code",
   "execution_count": 6,
   "id": "e74041e1",
   "metadata": {
    "ExecuteTime": {
     "end_time": "2021-08-07T19:01:16.433756Z",
     "start_time": "2021-08-07T19:01:15.821578Z"
    },
    "code_folding": [
     0
    ],
    "run_control": {
     "marked": false
    }
   },
   "outputs": [
    {
     "data": {
      "image/svg+xml": [
       "<svg xmlns=\"http://www.w3.org/2000/svg\" xmlns:xlink=\"http://www.w3.org/1999/xlink\" contentScriptType=\"application/ecmascript\" contentStyleType=\"text/css\" height=\"69px\" preserveAspectRatio=\"none\" style=\"width:224px;height:69px;background:#FFFFFF;\" version=\"1.1\" viewBox=\"0 0 224 69\" width=\"224px\" zoomAndPan=\"magnify\"><defs><filter height=\"300%\" id=\"f1cskpy1a5b0ij\" width=\"300%\" x=\"-1\" y=\"-1\"><feGaussianBlur result=\"blurOut\" stdDeviation=\"2.0\"/><feColorMatrix in=\"blurOut\" result=\"blurOut2\" type=\"matrix\" values=\"0 0 0 0 0 0 0 0 0 0 0 0 0 0 0 0 0 0 .4 0\"/><feOffset dx=\"4.0\" dy=\"4.0\" in=\"blurOut2\" result=\"blurOut3\"/><feBlend in=\"SourceGraphic\" in2=\"blurOut3\" mode=\"normal\"/></filter></defs><g><!--MD5=[2dd216a96f971173e227dca42cdc2de3]\n",
       "class Empleats--><rect codeLine=\"1\" fill=\"#FEFECE\" filter=\"url(#f1cskpy1a5b0ij)\" height=\"48\" id=\"Empleats\" style=\"stroke:#A80036;stroke-width:1.5;\" width=\"87\" x=\"7\" y=\"7\"/><ellipse cx=\"22\" cy=\"23\" fill=\"#ADD1B2\" rx=\"11\" ry=\"11\" style=\"stroke:#A80036;stroke-width:1.0;\"/><path d=\"M20.7969,23.875 L22.25,23.875 L22.25,23.9844 C22.25,24.3906 22.2813,24.5469 22.3594,24.7031 C22.5156,24.9531 22.7969,25.1094 23.0938,25.1094 C23.3438,25.1094 23.6094,24.9688 23.7656,24.75 C23.8906,24.5938 23.9219,24.4375 23.9219,23.9844 L23.9219,22.0625 C23.9219,21.9063 23.9219,21.8594 23.9063,21.7031 C23.8438,21.2344 23.5313,20.9219 23.0781,20.9219 C22.8281,20.9219 22.5625,21.0625 22.3906,21.2813 C22.2813,21.4531 22.25,21.6094 22.25,22.0625 L22.25,22.1875 L20.7969,22.1875 L20.7969,19.7813 L24.7813,19.7813 L24.7813,20.6406 C24.7813,21.0469 24.8125,21.2188 24.8906,21.375 C25.0625,21.625 25.3438,21.7813 25.625,21.7813 C25.8906,21.7813 26.1563,21.6406 26.3281,21.4219 C26.4375,21.25 26.4688,21.1094 26.4688,20.6406 L26.4688,18.0938 L18.8438,18.0938 C18.4063,18.0938 18.2813,18.1094 18.125,18.2031 C17.875,18.3594 17.7188,18.6563 17.7188,18.9375 C17.7188,19.2188 17.8594,19.4688 18.0781,19.6406 C18.2344,19.75 18.4219,19.7813 18.8438,19.7813 L19.0938,19.7813 L19.0938,26.2969 L18.8438,26.2969 C18.4375,26.2969 18.2813,26.3125 18.125,26.4219 C17.875,26.5938 17.7188,26.8594 17.7188,27.1563 C17.7188,27.4219 17.8594,27.6719 18.0781,27.8281 C18.2188,27.9531 18.4531,28 18.8438,28 L26.8438,28 L26.8438,25.4219 C26.8438,24.9844 26.8125,24.8438 26.7344,24.6875 C26.5625,24.4375 26.2813,24.2813 26,24.2813 C25.7344,24.2813 25.4688,24.3906 25.2969,24.6406 C25.1875,24.7969 25.1563,24.9375 25.1563,25.4219 L25.1563,26.2969 L20.7969,26.2969 L20.7969,23.875 Z \" fill=\"#000000\"/><text fill=\"#000000\" font-family=\"sans-serif\" font-size=\"12\" lengthAdjust=\"spacing\" textLength=\"55\" x=\"36\" y=\"27.1543\">Empleats</text><line style=\"stroke:#A80036;stroke-width:1.5;\" x1=\"8\" x2=\"93\" y1=\"39\" y2=\"39\"/><line style=\"stroke:#A80036;stroke-width:1.5;\" x1=\"8\" x2=\"93\" y1=\"47\" y2=\"47\"/><!--MD5=[c0fce37b6e2626152368ac44f23864e3]\n",
       "class Oficines--><rect codeLine=\"3\" fill=\"#FEFECE\" filter=\"url(#f1cskpy1a5b0ij)\" height=\"48\" id=\"Oficines\" style=\"stroke:#A80036;stroke-width:1.5;\" width=\"81\" x=\"129\" y=\"7\"/><ellipse cx=\"144\" cy=\"23\" fill=\"#ADD1B2\" rx=\"11\" ry=\"11\" style=\"stroke:#A80036;stroke-width:1.0;\"/><path d=\"M142.7969,23.875 L144.25,23.875 L144.25,23.9844 C144.25,24.3906 144.2813,24.5469 144.3594,24.7031 C144.5156,24.9531 144.7969,25.1094 145.0938,25.1094 C145.3438,25.1094 145.6094,24.9688 145.7656,24.75 C145.8906,24.5938 145.9219,24.4375 145.9219,23.9844 L145.9219,22.0625 C145.9219,21.9063 145.9219,21.8594 145.9063,21.7031 C145.8438,21.2344 145.5313,20.9219 145.0781,20.9219 C144.8281,20.9219 144.5625,21.0625 144.3906,21.2813 C144.2813,21.4531 144.25,21.6094 144.25,22.0625 L144.25,22.1875 L142.7969,22.1875 L142.7969,19.7813 L146.7813,19.7813 L146.7813,20.6406 C146.7813,21.0469 146.8125,21.2188 146.8906,21.375 C147.0625,21.625 147.3438,21.7813 147.625,21.7813 C147.8906,21.7813 148.1563,21.6406 148.3281,21.4219 C148.4375,21.25 148.4688,21.1094 148.4688,20.6406 L148.4688,18.0938 L140.8438,18.0938 C140.4063,18.0938 140.2813,18.1094 140.125,18.2031 C139.875,18.3594 139.7188,18.6563 139.7188,18.9375 C139.7188,19.2188 139.8594,19.4688 140.0781,19.6406 C140.2344,19.75 140.4219,19.7813 140.8438,19.7813 L141.0938,19.7813 L141.0938,26.2969 L140.8438,26.2969 C140.4375,26.2969 140.2813,26.3125 140.125,26.4219 C139.875,26.5938 139.7188,26.8594 139.7188,27.1563 C139.7188,27.4219 139.8594,27.6719 140.0781,27.8281 C140.2188,27.9531 140.4531,28 140.8438,28 L148.8438,28 L148.8438,25.4219 C148.8438,24.9844 148.8125,24.8438 148.7344,24.6875 C148.5625,24.4375 148.2813,24.2813 148,24.2813 C147.7344,24.2813 147.4688,24.3906 147.2969,24.6406 C147.1875,24.7969 147.1563,24.9375 147.1563,25.4219 L147.1563,26.2969 L142.7969,26.2969 L142.7969,23.875 Z \" fill=\"#000000\"/><text fill=\"#000000\" font-family=\"sans-serif\" font-size=\"12\" lengthAdjust=\"spacing\" textLength=\"49\" x=\"158\" y=\"27.1543\">Oficines</text><line style=\"stroke:#A80036;stroke-width:1.5;\" x1=\"130\" x2=\"209\" y1=\"39\" y2=\"39\"/><line style=\"stroke:#A80036;stroke-width:1.5;\" x1=\"130\" x2=\"209\" y1=\"47\" y2=\"47\"/><!--MD5=[10b0aa9aaade09d22b50801ec1d50577]\n",
       "@startuml\n",
       "entity Empleats {\n",
       "}\n",
       "entity Oficines {\n",
       "}\n",
       "@enduml\n",
       "\n",
       "PlantUML version 1.2021.10beta2(Unknown compile time)\n",
       "(GPL source distribution)\n",
       "Java Runtime: Java(TM) SE Runtime Environment\n",
       "JVM: Java HotSpot(TM) 64-Bit Server VM\n",
       "Default Encoding: UTF-8\n",
       "Language: en\n",
       "Country: US\n",
       "--></g></svg>"
      ],
      "text/plain": [
       "<IPython.core.display.SVG object>"
      ]
     },
     "execution_count": 6,
     "metadata": {},
     "output_type": "execute_result"
    }
   ],
   "source": [
    "%%plantuml\n",
    "\n",
    "@startuml\n",
    "entity Empleats {\n",
    "}\n",
    "entity Oficines {\n",
    "}\n",
    "@enduml"
   ]
  },
  {
   "cell_type": "markdown",
   "id": "e9fe0582",
   "metadata": {},
   "source": [
    "## Relacions (o interrelacions)"
   ]
  },
  {
   "cell_type": "markdown",
   "id": "9d8a571b",
   "metadata": {},
   "source": [
    "Una relació **determina una associació entre 2 o més entitats**.\n",
    "\n",
    "**Exemple 1**: \"Un empleat treballa a una oficina\".\n",
    "\n",
    "**Exemple 2**: \"A una oficina hi treballen molts empleats\".\n"
   ]
  },
  {
   "cell_type": "markdown",
   "id": "8714ddf3",
   "metadata": {},
   "source": [
    "### Tipus de relacions"
   ]
  },
  {
   "cell_type": "markdown",
   "id": "6b85504e",
   "metadata": {},
   "source": [
    "> **Relacions unàries**: només intervé una única entitat. En aquest cas, l'entitat s'interrelaciona amb sí mateixa.\n",
    "\n",
    "> **Relacions binàries**: intervenen dues entitats, interrelacionades entre sí.\n",
    "\n",
    "> **Relacions ternàries**: s'interrelacionen entre sí tres entitats."
   ]
  },
  {
   "cell_type": "markdown",
   "id": "f2a985f9",
   "metadata": {},
   "source": [
    "### Cardinalitat de les relacions: diagrama"
   ]
  },
  {
   "cell_type": "markdown",
   "id": "4d67eb9e",
   "metadata": {},
   "source": [
    "<img src=\"images/cardinalitat.png\" alt=\"cardinalitat\" width=30%/>\n",
    "\n",
    "```\n",
    "@startuml\n",
    "Entity01 }|..|| Entity02\n",
    "Entity03 }o..o| Entity04\n",
    "Entity05 ||--o{ Entity06\n",
    "Entity07 |o--|| Entity08\n",
    "@enduml\n",
    "```"
   ]
  },
  {
   "cell_type": "code",
   "execution_count": 5,
   "id": "f8ebe6d5",
   "metadata": {
    "ExecuteTime": {
     "end_time": "2021-08-09T16:51:21.728988Z",
     "start_time": "2021-08-09T16:51:20.065274Z"
    },
    "code_folding": [
     0
    ]
   },
   "outputs": [
    {
     "data": {
      "image/svg+xml": [
       "<svg xmlns=\"http://www.w3.org/2000/svg\" xmlns:xlink=\"http://www.w3.org/1999/xlink\" contentScriptType=\"application/ecmascript\" contentStyleType=\"text/css\" height=\"177px\" preserveAspectRatio=\"none\" style=\"width:446px;height:177px;background:#FFFFFF;\" version=\"1.1\" viewBox=\"0 0 446 177\" width=\"446px\" zoomAndPan=\"magnify\"><defs><filter height=\"300%\" id=\"fd1o5ssdzg7uv\" width=\"300%\" x=\"-1\" y=\"-1\"><feGaussianBlur result=\"blurOut\" stdDeviation=\"2.0\"/><feColorMatrix in=\"blurOut\" result=\"blurOut2\" type=\"matrix\" values=\"0 0 0 0 0 0 0 0 0 0 0 0 0 0 0 0 0 0 .4 0\"/><feOffset dx=\"4.0\" dy=\"4.0\" in=\"blurOut2\" result=\"blurOut3\"/><feBlend in=\"SourceGraphic\" in2=\"blurOut3\" mode=\"normal\"/></filter></defs><g><!--MD5=[6178f88bbe623bb523cef0440b7d7572]\n",
       "class Entity01--><rect fill=\"#FEFECE\" filter=\"url(#fd1o5ssdzg7uv)\" height=\"48\" id=\"Entity01\" style=\"stroke:#A80036;stroke-width:1.5;\" width=\"79\" x=\"7.5\" y=\"7\"/><ellipse cx=\"22.5\" cy=\"23\" fill=\"#ADD1B2\" rx=\"11\" ry=\"11\" style=\"stroke:#A80036;stroke-width:1.0;\"/><path d=\"M24.8438,18.6719 C23.9063,18.2344 23.3125,18.0938 22.4375,18.0938 C19.8125,18.0938 17.8125,20.1719 17.8125,22.8906 L17.8125,24.0156 C17.8125,26.5938 19.9219,28.4844 22.8125,28.4844 C24.0313,28.4844 25.1875,28.1875 25.9375,27.6406 C26.5156,27.2344 26.8438,26.7813 26.8438,26.3906 C26.8438,25.9375 26.4531,25.5469 25.9844,25.5469 C25.7656,25.5469 25.5625,25.625 25.375,25.8125 C24.9219,26.2969 24.9219,26.2969 24.7344,26.3906 C24.3125,26.6563 23.625,26.7813 22.8594,26.7813 C20.8125,26.7813 19.5156,25.6875 19.5156,23.9844 L19.5156,22.8906 C19.5156,21.1094 20.7656,19.7969 22.5,19.7969 C23.0781,19.7969 23.6875,19.9531 24.1563,20.2031 C24.6406,20.4844 24.8125,20.7031 24.9063,21.1094 C24.9688,21.5156 25,21.6406 25.1406,21.7656 C25.2813,21.9063 25.5156,22.0156 25.7344,22.0156 C26,22.0156 26.2656,21.875 26.4375,21.6563 C26.5469,21.5 26.5781,21.3125 26.5781,20.8906 L26.5781,19.4688 C26.5781,19.0313 26.5625,18.9063 26.4688,18.75 C26.3125,18.4844 26.0313,18.3438 25.7344,18.3438 C25.4375,18.3438 25.2344,18.4375 25.0156,18.75 L24.8438,18.6719 Z \" fill=\"#000000\"/><text fill=\"#000000\" font-family=\"sans-serif\" font-size=\"12\" lengthAdjust=\"spacing\" textLength=\"47\" x=\"36.5\" y=\"27.1543\">Entity01</text><line style=\"stroke:#A80036;stroke-width:1.5;\" x1=\"8.5\" x2=\"85.5\" y1=\"39\" y2=\"39\"/><line style=\"stroke:#A80036;stroke-width:1.5;\" x1=\"8.5\" x2=\"85.5\" y1=\"47\" y2=\"47\"/><!--MD5=[f4074c741a004a9c45fd03a31f8b9b03]\n",
       "class Entity02--><rect fill=\"#FEFECE\" filter=\"url(#fd1o5ssdzg7uv)\" height=\"48\" id=\"Entity02\" style=\"stroke:#A80036;stroke-width:1.5;\" width=\"80\" x=\"7\" y=\"115\"/><ellipse cx=\"22\" cy=\"131\" fill=\"#ADD1B2\" rx=\"11\" ry=\"11\" style=\"stroke:#A80036;stroke-width:1.0;\"/><path d=\"M24.3438,126.6719 C23.4063,126.2344 22.8125,126.0938 21.9375,126.0938 C19.3125,126.0938 17.3125,128.1719 17.3125,130.8906 L17.3125,132.0156 C17.3125,134.5938 19.4219,136.4844 22.3125,136.4844 C23.5313,136.4844 24.6875,136.1875 25.4375,135.6406 C26.0156,135.2344 26.3438,134.7813 26.3438,134.3906 C26.3438,133.9375 25.9531,133.5469 25.4844,133.5469 C25.2656,133.5469 25.0625,133.625 24.875,133.8125 C24.4219,134.2969 24.4219,134.2969 24.2344,134.3906 C23.8125,134.6563 23.125,134.7813 22.3594,134.7813 C20.3125,134.7813 19.0156,133.6875 19.0156,131.9844 L19.0156,130.8906 C19.0156,129.1094 20.2656,127.7969 22,127.7969 C22.5781,127.7969 23.1875,127.9531 23.6563,128.2031 C24.1406,128.4844 24.3125,128.7031 24.4063,129.1094 C24.4688,129.5156 24.5,129.6406 24.6406,129.7656 C24.7813,129.9063 25.0156,130.0156 25.2344,130.0156 C25.5,130.0156 25.7656,129.875 25.9375,129.6563 C26.0469,129.5 26.0781,129.3125 26.0781,128.8906 L26.0781,127.4688 C26.0781,127.0313 26.0625,126.9063 25.9688,126.75 C25.8125,126.4844 25.5313,126.3438 25.2344,126.3438 C24.9375,126.3438 24.7344,126.4375 24.5156,126.75 L24.3438,126.6719 Z \" fill=\"#000000\"/><text fill=\"#000000\" font-family=\"sans-serif\" font-size=\"12\" lengthAdjust=\"spacing\" textLength=\"48\" x=\"36\" y=\"135.1543\">Entity02</text><line style=\"stroke:#A80036;stroke-width:1.5;\" x1=\"8\" x2=\"86\" y1=\"147\" y2=\"147\"/><line style=\"stroke:#A80036;stroke-width:1.5;\" x1=\"8\" x2=\"86\" y1=\"155\" y2=\"155\"/><!--MD5=[bc1ecf3a155b5be2b6a42d90148215d2]\n",
       "class Entity03--><rect fill=\"#FEFECE\" filter=\"url(#fd1o5ssdzg7uv)\" height=\"48\" id=\"Entity03\" style=\"stroke:#A80036;stroke-width:1.5;\" width=\"80\" x=\"122\" y=\"7\"/><ellipse cx=\"137\" cy=\"23\" fill=\"#ADD1B2\" rx=\"11\" ry=\"11\" style=\"stroke:#A80036;stroke-width:1.0;\"/><path d=\"M139.3438,18.6719 C138.4063,18.2344 137.8125,18.0938 136.9375,18.0938 C134.3125,18.0938 132.3125,20.1719 132.3125,22.8906 L132.3125,24.0156 C132.3125,26.5938 134.4219,28.4844 137.3125,28.4844 C138.5313,28.4844 139.6875,28.1875 140.4375,27.6406 C141.0156,27.2344 141.3438,26.7813 141.3438,26.3906 C141.3438,25.9375 140.9531,25.5469 140.4844,25.5469 C140.2656,25.5469 140.0625,25.625 139.875,25.8125 C139.4219,26.2969 139.4219,26.2969 139.2344,26.3906 C138.8125,26.6563 138.125,26.7813 137.3594,26.7813 C135.3125,26.7813 134.0156,25.6875 134.0156,23.9844 L134.0156,22.8906 C134.0156,21.1094 135.2656,19.7969 137,19.7969 C137.5781,19.7969 138.1875,19.9531 138.6563,20.2031 C139.1406,20.4844 139.3125,20.7031 139.4063,21.1094 C139.4688,21.5156 139.5,21.6406 139.6406,21.7656 C139.7813,21.9063 140.0156,22.0156 140.2344,22.0156 C140.5,22.0156 140.7656,21.875 140.9375,21.6563 C141.0469,21.5 141.0781,21.3125 141.0781,20.8906 L141.0781,19.4688 C141.0781,19.0313 141.0625,18.9063 140.9688,18.75 C140.8125,18.4844 140.5313,18.3438 140.2344,18.3438 C139.9375,18.3438 139.7344,18.4375 139.5156,18.75 L139.3438,18.6719 Z \" fill=\"#000000\"/><text fill=\"#000000\" font-family=\"sans-serif\" font-size=\"12\" lengthAdjust=\"spacing\" textLength=\"48\" x=\"151\" y=\"27.1543\">Entity03</text><line style=\"stroke:#A80036;stroke-width:1.5;\" x1=\"123\" x2=\"201\" y1=\"39\" y2=\"39\"/><line style=\"stroke:#A80036;stroke-width:1.5;\" x1=\"123\" x2=\"201\" y1=\"47\" y2=\"47\"/><!--MD5=[2d2d2c8cadf0cbcf723339c97359309c]\n",
       "class Entity04--><rect fill=\"#FEFECE\" filter=\"url(#fd1o5ssdzg7uv)\" height=\"48\" id=\"Entity04\" style=\"stroke:#A80036;stroke-width:1.5;\" width=\"80\" x=\"122\" y=\"115\"/><ellipse cx=\"137\" cy=\"131\" fill=\"#ADD1B2\" rx=\"11\" ry=\"11\" style=\"stroke:#A80036;stroke-width:1.0;\"/><path d=\"M139.3438,126.6719 C138.4063,126.2344 137.8125,126.0938 136.9375,126.0938 C134.3125,126.0938 132.3125,128.1719 132.3125,130.8906 L132.3125,132.0156 C132.3125,134.5938 134.4219,136.4844 137.3125,136.4844 C138.5313,136.4844 139.6875,136.1875 140.4375,135.6406 C141.0156,135.2344 141.3438,134.7813 141.3438,134.3906 C141.3438,133.9375 140.9531,133.5469 140.4844,133.5469 C140.2656,133.5469 140.0625,133.625 139.875,133.8125 C139.4219,134.2969 139.4219,134.2969 139.2344,134.3906 C138.8125,134.6563 138.125,134.7813 137.3594,134.7813 C135.3125,134.7813 134.0156,133.6875 134.0156,131.9844 L134.0156,130.8906 C134.0156,129.1094 135.2656,127.7969 137,127.7969 C137.5781,127.7969 138.1875,127.9531 138.6563,128.2031 C139.1406,128.4844 139.3125,128.7031 139.4063,129.1094 C139.4688,129.5156 139.5,129.6406 139.6406,129.7656 C139.7813,129.9063 140.0156,130.0156 140.2344,130.0156 C140.5,130.0156 140.7656,129.875 140.9375,129.6563 C141.0469,129.5 141.0781,129.3125 141.0781,128.8906 L141.0781,127.4688 C141.0781,127.0313 141.0625,126.9063 140.9688,126.75 C140.8125,126.4844 140.5313,126.3438 140.2344,126.3438 C139.9375,126.3438 139.7344,126.4375 139.5156,126.75 L139.3438,126.6719 Z \" fill=\"#000000\"/><text fill=\"#000000\" font-family=\"sans-serif\" font-size=\"12\" lengthAdjust=\"spacing\" textLength=\"48\" x=\"151\" y=\"135.1543\">Entity04</text><line style=\"stroke:#A80036;stroke-width:1.5;\" x1=\"123\" x2=\"201\" y1=\"147\" y2=\"147\"/><line style=\"stroke:#A80036;stroke-width:1.5;\" x1=\"123\" x2=\"201\" y1=\"155\" y2=\"155\"/><!--MD5=[df017a8854864e8c7519c60f4c6c8bea]\n",
       "class Entity05--><rect fill=\"#FEFECE\" filter=\"url(#fd1o5ssdzg7uv)\" height=\"48\" id=\"Entity05\" style=\"stroke:#A80036;stroke-width:1.5;\" width=\"80\" x=\"237\" y=\"7\"/><ellipse cx=\"252\" cy=\"23\" fill=\"#ADD1B2\" rx=\"11\" ry=\"11\" style=\"stroke:#A80036;stroke-width:1.0;\"/><path d=\"M254.3438,18.6719 C253.4063,18.2344 252.8125,18.0938 251.9375,18.0938 C249.3125,18.0938 247.3125,20.1719 247.3125,22.8906 L247.3125,24.0156 C247.3125,26.5938 249.4219,28.4844 252.3125,28.4844 C253.5313,28.4844 254.6875,28.1875 255.4375,27.6406 C256.0156,27.2344 256.3438,26.7813 256.3438,26.3906 C256.3438,25.9375 255.9531,25.5469 255.4844,25.5469 C255.2656,25.5469 255.0625,25.625 254.875,25.8125 C254.4219,26.2969 254.4219,26.2969 254.2344,26.3906 C253.8125,26.6563 253.125,26.7813 252.3594,26.7813 C250.3125,26.7813 249.0156,25.6875 249.0156,23.9844 L249.0156,22.8906 C249.0156,21.1094 250.2656,19.7969 252,19.7969 C252.5781,19.7969 253.1875,19.9531 253.6563,20.2031 C254.1406,20.4844 254.3125,20.7031 254.4063,21.1094 C254.4688,21.5156 254.5,21.6406 254.6406,21.7656 C254.7813,21.9063 255.0156,22.0156 255.2344,22.0156 C255.5,22.0156 255.7656,21.875 255.9375,21.6563 C256.0469,21.5 256.0781,21.3125 256.0781,20.8906 L256.0781,19.4688 C256.0781,19.0313 256.0625,18.9063 255.9688,18.75 C255.8125,18.4844 255.5313,18.3438 255.2344,18.3438 C254.9375,18.3438 254.7344,18.4375 254.5156,18.75 L254.3438,18.6719 Z \" fill=\"#000000\"/><text fill=\"#000000\" font-family=\"sans-serif\" font-size=\"12\" lengthAdjust=\"spacing\" textLength=\"48\" x=\"266\" y=\"27.1543\">Entity05</text><line style=\"stroke:#A80036;stroke-width:1.5;\" x1=\"238\" x2=\"316\" y1=\"39\" y2=\"39\"/><line style=\"stroke:#A80036;stroke-width:1.5;\" x1=\"238\" x2=\"316\" y1=\"47\" y2=\"47\"/><!--MD5=[e188ef918634b4e3675ccb46cc0e364c]\n",
       "class Entity06--><rect fill=\"#FEFECE\" filter=\"url(#fd1o5ssdzg7uv)\" height=\"48\" id=\"Entity06\" style=\"stroke:#A80036;stroke-width:1.5;\" width=\"80\" x=\"237\" y=\"115\"/><ellipse cx=\"252\" cy=\"131\" fill=\"#ADD1B2\" rx=\"11\" ry=\"11\" style=\"stroke:#A80036;stroke-width:1.0;\"/><path d=\"M254.3438,126.6719 C253.4063,126.2344 252.8125,126.0938 251.9375,126.0938 C249.3125,126.0938 247.3125,128.1719 247.3125,130.8906 L247.3125,132.0156 C247.3125,134.5938 249.4219,136.4844 252.3125,136.4844 C253.5313,136.4844 254.6875,136.1875 255.4375,135.6406 C256.0156,135.2344 256.3438,134.7813 256.3438,134.3906 C256.3438,133.9375 255.9531,133.5469 255.4844,133.5469 C255.2656,133.5469 255.0625,133.625 254.875,133.8125 C254.4219,134.2969 254.4219,134.2969 254.2344,134.3906 C253.8125,134.6563 253.125,134.7813 252.3594,134.7813 C250.3125,134.7813 249.0156,133.6875 249.0156,131.9844 L249.0156,130.8906 C249.0156,129.1094 250.2656,127.7969 252,127.7969 C252.5781,127.7969 253.1875,127.9531 253.6563,128.2031 C254.1406,128.4844 254.3125,128.7031 254.4063,129.1094 C254.4688,129.5156 254.5,129.6406 254.6406,129.7656 C254.7813,129.9063 255.0156,130.0156 255.2344,130.0156 C255.5,130.0156 255.7656,129.875 255.9375,129.6563 C256.0469,129.5 256.0781,129.3125 256.0781,128.8906 L256.0781,127.4688 C256.0781,127.0313 256.0625,126.9063 255.9688,126.75 C255.8125,126.4844 255.5313,126.3438 255.2344,126.3438 C254.9375,126.3438 254.7344,126.4375 254.5156,126.75 L254.3438,126.6719 Z \" fill=\"#000000\"/><text fill=\"#000000\" font-family=\"sans-serif\" font-size=\"12\" lengthAdjust=\"spacing\" textLength=\"48\" x=\"266\" y=\"135.1543\">Entity06</text><line style=\"stroke:#A80036;stroke-width:1.5;\" x1=\"238\" x2=\"316\" y1=\"147\" y2=\"147\"/><line style=\"stroke:#A80036;stroke-width:1.5;\" x1=\"238\" x2=\"316\" y1=\"155\" y2=\"155\"/><!--MD5=[0811b4726bb2e806a3e81ecfdf10c6b1]\n",
       "class Entity07--><rect fill=\"#FEFECE\" filter=\"url(#fd1o5ssdzg7uv)\" height=\"48\" id=\"Entity07\" style=\"stroke:#A80036;stroke-width:1.5;\" width=\"80\" x=\"352\" y=\"7\"/><ellipse cx=\"367\" cy=\"23\" fill=\"#ADD1B2\" rx=\"11\" ry=\"11\" style=\"stroke:#A80036;stroke-width:1.0;\"/><path d=\"M369.3438,18.6719 C368.4063,18.2344 367.8125,18.0938 366.9375,18.0938 C364.3125,18.0938 362.3125,20.1719 362.3125,22.8906 L362.3125,24.0156 C362.3125,26.5938 364.4219,28.4844 367.3125,28.4844 C368.5313,28.4844 369.6875,28.1875 370.4375,27.6406 C371.0156,27.2344 371.3438,26.7813 371.3438,26.3906 C371.3438,25.9375 370.9531,25.5469 370.4844,25.5469 C370.2656,25.5469 370.0625,25.625 369.875,25.8125 C369.4219,26.2969 369.4219,26.2969 369.2344,26.3906 C368.8125,26.6563 368.125,26.7813 367.3594,26.7813 C365.3125,26.7813 364.0156,25.6875 364.0156,23.9844 L364.0156,22.8906 C364.0156,21.1094 365.2656,19.7969 367,19.7969 C367.5781,19.7969 368.1875,19.9531 368.6563,20.2031 C369.1406,20.4844 369.3125,20.7031 369.4063,21.1094 C369.4688,21.5156 369.5,21.6406 369.6406,21.7656 C369.7813,21.9063 370.0156,22.0156 370.2344,22.0156 C370.5,22.0156 370.7656,21.875 370.9375,21.6563 C371.0469,21.5 371.0781,21.3125 371.0781,20.8906 L371.0781,19.4688 C371.0781,19.0313 371.0625,18.9063 370.9688,18.75 C370.8125,18.4844 370.5313,18.3438 370.2344,18.3438 C369.9375,18.3438 369.7344,18.4375 369.5156,18.75 L369.3438,18.6719 Z \" fill=\"#000000\"/><text fill=\"#000000\" font-family=\"sans-serif\" font-size=\"12\" lengthAdjust=\"spacing\" textLength=\"48\" x=\"381\" y=\"27.1543\">Entity07</text><line style=\"stroke:#A80036;stroke-width:1.5;\" x1=\"353\" x2=\"431\" y1=\"39\" y2=\"39\"/><line style=\"stroke:#A80036;stroke-width:1.5;\" x1=\"353\" x2=\"431\" y1=\"47\" y2=\"47\"/><!--MD5=[c9f4016e116c1649eb8173279124ba5a]\n",
       "class Entity08--><rect fill=\"#FEFECE\" filter=\"url(#fd1o5ssdzg7uv)\" height=\"48\" id=\"Entity08\" style=\"stroke:#A80036;stroke-width:1.5;\" width=\"80\" x=\"352\" y=\"115\"/><ellipse cx=\"367\" cy=\"131\" fill=\"#ADD1B2\" rx=\"11\" ry=\"11\" style=\"stroke:#A80036;stroke-width:1.0;\"/><path d=\"M369.3438,126.6719 C368.4063,126.2344 367.8125,126.0938 366.9375,126.0938 C364.3125,126.0938 362.3125,128.1719 362.3125,130.8906 L362.3125,132.0156 C362.3125,134.5938 364.4219,136.4844 367.3125,136.4844 C368.5313,136.4844 369.6875,136.1875 370.4375,135.6406 C371.0156,135.2344 371.3438,134.7813 371.3438,134.3906 C371.3438,133.9375 370.9531,133.5469 370.4844,133.5469 C370.2656,133.5469 370.0625,133.625 369.875,133.8125 C369.4219,134.2969 369.4219,134.2969 369.2344,134.3906 C368.8125,134.6563 368.125,134.7813 367.3594,134.7813 C365.3125,134.7813 364.0156,133.6875 364.0156,131.9844 L364.0156,130.8906 C364.0156,129.1094 365.2656,127.7969 367,127.7969 C367.5781,127.7969 368.1875,127.9531 368.6563,128.2031 C369.1406,128.4844 369.3125,128.7031 369.4063,129.1094 C369.4688,129.5156 369.5,129.6406 369.6406,129.7656 C369.7813,129.9063 370.0156,130.0156 370.2344,130.0156 C370.5,130.0156 370.7656,129.875 370.9375,129.6563 C371.0469,129.5 371.0781,129.3125 371.0781,128.8906 L371.0781,127.4688 C371.0781,127.0313 371.0625,126.9063 370.9688,126.75 C370.8125,126.4844 370.5313,126.3438 370.2344,126.3438 C369.9375,126.3438 369.7344,126.4375 369.5156,126.75 L369.3438,126.6719 Z \" fill=\"#000000\"/><text fill=\"#000000\" font-family=\"sans-serif\" font-size=\"12\" lengthAdjust=\"spacing\" textLength=\"48\" x=\"381\" y=\"135.1543\">Entity08</text><line style=\"stroke:#A80036;stroke-width:1.5;\" x1=\"353\" x2=\"431\" y1=\"147\" y2=\"147\"/><line style=\"stroke:#A80036;stroke-width:1.5;\" x1=\"353\" x2=\"431\" y1=\"155\" y2=\"155\"/><!--MD5=[aa65acfa580fda55ed56c41e76710f9e]\n",
       "link Entity01 to Entity02--><path codeLine=\"1\" d=\"M47,63.2585 C47,76.8932 47,92.8501 47,106.5107 \" fill=\"none\" id=\"Entity01-Entity02\" style=\"stroke:#A80036;stroke-width:1.0;stroke-dasharray:7.0,7.0;\"/><line style=\"stroke:#A80036;stroke-width:1.0;\" x1=\"51\" x2=\"43\" y1=\"110.6784\" y2=\"110.6784\"/><line style=\"stroke:#A80036;stroke-width:1.0;\" x1=\"51\" x2=\"43\" y1=\"107.6784\" y2=\"107.6784\"/><line style=\"stroke:#A80036;stroke-width:1.0;\" x1=\"47\" x2=\"47\" y1=\"106.6784\" y2=\"114.6784\"/><line style=\"stroke:#A80036;stroke-width:1.0;\" x1=\"47\" x2=\"41\" y1=\"63\" y2=\"55\"/><line style=\"stroke:#A80036;stroke-width:1.0;\" x1=\"47\" x2=\"53\" y1=\"63\" y2=\"55\"/><line style=\"stroke:#A80036;stroke-width:1.0;\" x1=\"47\" x2=\"47\" y1=\"63\" y2=\"55\"/><line style=\"stroke:#A80036;stroke-width:1.0;\" x1=\"43\" x2=\"51\" y1=\"65\" y2=\"65\"/><!--MD5=[121c25045f65a021b7b7359b5ab947ee]\n",
       "link Entity03 to Entity04--><path codeLine=\"2\" d=\"M162,63.2585 C162,76.8932 162,92.8501 162,106.5107 \" fill=\"none\" id=\"Entity03-Entity04\" style=\"stroke:#A80036;stroke-width:1.0;stroke-dasharray:7.0,7.0;\"/><line style=\"stroke:#A80036;stroke-width:1.0;\" x1=\"162\" x2=\"162\" y1=\"103.6784\" y2=\"114.6784\"/><ellipse cx=\"162\" cy=\"103.6784\" rx=\"4\" ry=\"4\" style=\"stroke:#A80036;stroke-width:1.0;fill:none;\"/><line style=\"stroke:#A80036;stroke-width:1.0;fill:none;\" x1=\"166\" x2=\"158\" y1=\"110.6784\" y2=\"110.6784\"/><line style=\"stroke:#A80036;stroke-width:1.0;fill:none;\" x1=\"162\" x2=\"156\" y1=\"63\" y2=\"55\"/><line style=\"stroke:#A80036;stroke-width:1.0;fill:none;\" x1=\"162\" x2=\"168\" y1=\"63\" y2=\"55\"/><line style=\"stroke:#A80036;stroke-width:1.0;fill:none;\" x1=\"162\" x2=\"162\" y1=\"63\" y2=\"55\"/><ellipse cx=\"162\" cy=\"69\" rx=\"4\" ry=\"4\" style=\"stroke:#A80036;stroke-width:1.0;fill:none;\"/><!--MD5=[3e1350d0fdac45c01a0825d9e99fb4be]\n",
       "link Entity05 to Entity06--><path codeLine=\"3\" d=\"M277,63.2585 C277,76.8932 277,92.8501 277,106.5107 \" fill=\"none\" id=\"Entity05-Entity06\" style=\"stroke:#A80036;stroke-width:1.0;\"/><line style=\"stroke:#A80036;stroke-width:1.0;\" x1=\"277\" x2=\"283\" y1=\"106.6784\" y2=\"114.6784\"/><line style=\"stroke:#A80036;stroke-width:1.0;\" x1=\"277\" x2=\"271\" y1=\"106.6784\" y2=\"114.6784\"/><line style=\"stroke:#A80036;stroke-width:1.0;\" x1=\"277\" x2=\"277\" y1=\"106.6784\" y2=\"114.6784\"/><ellipse cx=\"277\" cy=\"100.6784\" rx=\"4\" ry=\"4\" style=\"stroke:#A80036;stroke-width:1.0;fill:none;\"/><line style=\"stroke:#A80036;stroke-width:1.0;fill:none;\" x1=\"273\" x2=\"281\" y1=\"59\" y2=\"59\"/><line style=\"stroke:#A80036;stroke-width:1.0;fill:none;\" x1=\"273\" x2=\"281\" y1=\"62\" y2=\"62\"/><line style=\"stroke:#A80036;stroke-width:1.0;fill:none;\" x1=\"277\" x2=\"277\" y1=\"63\" y2=\"55\"/><!--MD5=[363bffc439f51b35d57d6ba0bf584fef]\n",
       "link Entity07 to Entity08--><path codeLine=\"4\" d=\"M392,63.2585 C392,76.8932 392,92.8501 392,106.5107 \" fill=\"none\" id=\"Entity07-Entity08\" style=\"stroke:#A80036;stroke-width:1.0;\"/><line style=\"stroke:#A80036;stroke-width:1.0;\" x1=\"396\" x2=\"388\" y1=\"110.6784\" y2=\"110.6784\"/><line style=\"stroke:#A80036;stroke-width:1.0;\" x1=\"396\" x2=\"388\" y1=\"107.6784\" y2=\"107.6784\"/><line style=\"stroke:#A80036;stroke-width:1.0;\" x1=\"392\" x2=\"392\" y1=\"106.6784\" y2=\"114.6784\"/><line style=\"stroke:#A80036;stroke-width:1.0;\" x1=\"392\" x2=\"392\" y1=\"66\" y2=\"55\"/><ellipse cx=\"392\" cy=\"66\" rx=\"4\" ry=\"4\" style=\"stroke:#A80036;stroke-width:1.0;fill:none;\"/><line style=\"stroke:#A80036;stroke-width:1.0;fill:none;\" x1=\"388\" x2=\"396\" y1=\"59\" y2=\"59\"/><!--MD5=[4009bf7fbaa69166231dc673dae0fb44]\n",
       "@startuml\n",
       "Entity01 }|..|| Entity02\n",
       "Entity03 }o..o| Entity04\n",
       "Entity05 ||- -o{ Entity06\n",
       "Entity07 |o- -|| Entity08\n",
       "@enduml\n",
       "\n",
       "PlantUML version 1.2021.10beta2(Unknown compile time)\n",
       "(GPL source distribution)\n",
       "Java Runtime: Java(TM) SE Runtime Environment\n",
       "JVM: Java HotSpot(TM) 64-Bit Server VM\n",
       "Default Encoding: UTF-8\n",
       "Language: en\n",
       "Country: US\n",
       "--></g></svg>"
      ],
      "text/plain": [
       "<IPython.core.display.SVG object>"
      ]
     },
     "execution_count": 5,
     "metadata": {},
     "output_type": "execute_result"
    }
   ],
   "source": [
    "%%plantuml\n",
    "@startuml\n",
    "Entity01 }|..|| Entity02\n",
    "Entity03 }o..o| Entity04\n",
    "Entity05 ||--o{ Entity06\n",
    "Entity07 |o--|| Entity08\n",
    "@enduml"
   ]
  },
  {
   "cell_type": "markdown",
   "id": "a139e71b",
   "metadata": {},
   "source": [
    "### Cardinalitat de les relacions: 1 a 1"
   ]
  },
  {
   "cell_type": "markdown",
   "id": "77d98ef5",
   "metadata": {},
   "source": [
    "> **1 a 1**: una entitat de tipus A s'interrelaciona amb una única entitat de tipus B, i viceversa.\n",
    "\n",
    "**Exemple de cardinalitat 1 a 1**: Un _poble_ té un _alcalde_, i un _alcalde_ ho és només d'un sol _poble_."
   ]
  },
  {
   "cell_type": "code",
   "execution_count": 3,
   "id": "221ede1f",
   "metadata": {
    "ExecuteTime": {
     "end_time": "2021-08-09T12:33:44.866793Z",
     "start_time": "2021-08-09T12:33:43.434856Z"
    },
    "code_folding": [
     0
    ]
   },
   "outputs": [
    {
     "data": {
      "image/svg+xml": [
       "<svg xmlns=\"http://www.w3.org/2000/svg\" xmlns:xlink=\"http://www.w3.org/1999/xlink\" contentScriptType=\"application/ecmascript\" contentStyleType=\"text/css\" height=\"177px\" preserveAspectRatio=\"none\" style=\"width:97px;height:177px;background:#FFFFFF;\" version=\"1.1\" viewBox=\"0 0 97 177\" width=\"97px\" zoomAndPan=\"magnify\"><defs><filter height=\"300%\" id=\"fq5x7cdlmy8d5\" width=\"300%\" x=\"-1\" y=\"-1\"><feGaussianBlur result=\"blurOut\" stdDeviation=\"2.0\"/><feColorMatrix in=\"blurOut\" result=\"blurOut2\" type=\"matrix\" values=\"0 0 0 0 0 0 0 0 0 0 0 0 0 0 0 0 0 0 .4 0\"/><feOffset dx=\"4.0\" dy=\"4.0\" in=\"blurOut2\" result=\"blurOut3\"/><feBlend in=\"SourceGraphic\" in2=\"blurOut3\" mode=\"normal\"/></filter></defs><g><!--MD5=[ac4a40fb5d78e2059c4373d4b718e64f]\n",
       "class Poble--><rect fill=\"#FEFECE\" filter=\"url(#fq5x7cdlmy8d5)\" height=\"48\" id=\"Poble\" style=\"stroke:#A80036;stroke-width:1.5;\" width=\"65\" x=\"12.5\" y=\"7\"/><ellipse cx=\"27.5\" cy=\"23\" fill=\"#ADD1B2\" rx=\"11\" ry=\"11\" style=\"stroke:#A80036;stroke-width:1.0;\"/><path d=\"M29.8438,18.6719 C28.9063,18.2344 28.3125,18.0938 27.4375,18.0938 C24.8125,18.0938 22.8125,20.1719 22.8125,22.8906 L22.8125,24.0156 C22.8125,26.5938 24.9219,28.4844 27.8125,28.4844 C29.0313,28.4844 30.1875,28.1875 30.9375,27.6406 C31.5156,27.2344 31.8438,26.7813 31.8438,26.3906 C31.8438,25.9375 31.4531,25.5469 30.9844,25.5469 C30.7656,25.5469 30.5625,25.625 30.375,25.8125 C29.9219,26.2969 29.9219,26.2969 29.7344,26.3906 C29.3125,26.6563 28.625,26.7813 27.8594,26.7813 C25.8125,26.7813 24.5156,25.6875 24.5156,23.9844 L24.5156,22.8906 C24.5156,21.1094 25.7656,19.7969 27.5,19.7969 C28.0781,19.7969 28.6875,19.9531 29.1563,20.2031 C29.6406,20.4844 29.8125,20.7031 29.9063,21.1094 C29.9688,21.5156 30,21.6406 30.1406,21.7656 C30.2813,21.9063 30.5156,22.0156 30.7344,22.0156 C31,22.0156 31.2656,21.875 31.4375,21.6563 C31.5469,21.5 31.5781,21.3125 31.5781,20.8906 L31.5781,19.4688 C31.5781,19.0313 31.5625,18.9063 31.4688,18.75 C31.3125,18.4844 31.0313,18.3438 30.7344,18.3438 C30.4375,18.3438 30.2344,18.4375 30.0156,18.75 L29.8438,18.6719 Z \" fill=\"#000000\"/><text fill=\"#000000\" font-family=\"sans-serif\" font-size=\"12\" lengthAdjust=\"spacing\" textLength=\"33\" x=\"41.5\" y=\"27.1543\">Poble</text><line style=\"stroke:#A80036;stroke-width:1.5;\" x1=\"13.5\" x2=\"76.5\" y1=\"39\" y2=\"39\"/><line style=\"stroke:#A80036;stroke-width:1.5;\" x1=\"13.5\" x2=\"76.5\" y1=\"47\" y2=\"47\"/><!--MD5=[001d65b4b563d48ca8835e1b0c1c343d]\n",
       "class Alcalde--><rect fill=\"#FEFECE\" filter=\"url(#fq5x7cdlmy8d5)\" height=\"48\" id=\"Alcalde\" style=\"stroke:#A80036;stroke-width:1.5;\" width=\"76\" x=\"7\" y=\"115\"/><ellipse cx=\"22\" cy=\"131\" fill=\"#ADD1B2\" rx=\"11\" ry=\"11\" style=\"stroke:#A80036;stroke-width:1.0;\"/><path d=\"M24.3438,126.6719 C23.4063,126.2344 22.8125,126.0938 21.9375,126.0938 C19.3125,126.0938 17.3125,128.1719 17.3125,130.8906 L17.3125,132.0156 C17.3125,134.5938 19.4219,136.4844 22.3125,136.4844 C23.5313,136.4844 24.6875,136.1875 25.4375,135.6406 C26.0156,135.2344 26.3438,134.7813 26.3438,134.3906 C26.3438,133.9375 25.9531,133.5469 25.4844,133.5469 C25.2656,133.5469 25.0625,133.625 24.875,133.8125 C24.4219,134.2969 24.4219,134.2969 24.2344,134.3906 C23.8125,134.6563 23.125,134.7813 22.3594,134.7813 C20.3125,134.7813 19.0156,133.6875 19.0156,131.9844 L19.0156,130.8906 C19.0156,129.1094 20.2656,127.7969 22,127.7969 C22.5781,127.7969 23.1875,127.9531 23.6563,128.2031 C24.1406,128.4844 24.3125,128.7031 24.4063,129.1094 C24.4688,129.5156 24.5,129.6406 24.6406,129.7656 C24.7813,129.9063 25.0156,130.0156 25.2344,130.0156 C25.5,130.0156 25.7656,129.875 25.9375,129.6563 C26.0469,129.5 26.0781,129.3125 26.0781,128.8906 L26.0781,127.4688 C26.0781,127.0313 26.0625,126.9063 25.9688,126.75 C25.8125,126.4844 25.5313,126.3438 25.2344,126.3438 C24.9375,126.3438 24.7344,126.4375 24.5156,126.75 L24.3438,126.6719 Z \" fill=\"#000000\"/><text fill=\"#000000\" font-family=\"sans-serif\" font-size=\"12\" lengthAdjust=\"spacing\" textLength=\"44\" x=\"36\" y=\"135.1543\">Alcalde</text><line style=\"stroke:#A80036;stroke-width:1.5;\" x1=\"8\" x2=\"82\" y1=\"147\" y2=\"147\"/><line style=\"stroke:#A80036;stroke-width:1.5;\" x1=\"8\" x2=\"82\" y1=\"155\" y2=\"155\"/><!--MD5=[f0b2a209ac2806a5541410139064aa60]\n",
       "link Poble to Alcalde--><path codeLine=\"1\" d=\"M45,62.356 C45,76.5234 45,93.3497 45,107.5314 \" fill=\"none\" id=\"Poble-Alcalde\" style=\"stroke:#A80036;stroke-width:1.0;stroke-dasharray:7.0,7.0;\"/><line style=\"stroke:#A80036;stroke-width:1.0;\" x1=\"49\" x2=\"41\" y1=\"110.6784\" y2=\"110.6784\"/><line style=\"stroke:#A80036;stroke-width:1.0;\" x1=\"49\" x2=\"41\" y1=\"107.6784\" y2=\"107.6784\"/><line style=\"stroke:#A80036;stroke-width:1.0;\" x1=\"45\" x2=\"45\" y1=\"106.6784\" y2=\"114.6784\"/><line style=\"stroke:#A80036;stroke-width:1.0;\" x1=\"41\" x2=\"49\" y1=\"59\" y2=\"59\"/><line style=\"stroke:#A80036;stroke-width:1.0;\" x1=\"41\" x2=\"49\" y1=\"62\" y2=\"62\"/><line style=\"stroke:#A80036;stroke-width:1.0;\" x1=\"45\" x2=\"45\" y1=\"63\" y2=\"55\"/><!--MD5=[4b12271c75975e752abdc36623ddedd6]\n",
       "@startuml\n",
       "Poble ||..|| Alcalde\n",
       "@enduml\n",
       "\n",
       "PlantUML version 1.2021.10beta2(Unknown compile time)\n",
       "(GPL source distribution)\n",
       "Java Runtime: Java(TM) SE Runtime Environment\n",
       "JVM: Java HotSpot(TM) 64-Bit Server VM\n",
       "Default Encoding: UTF-8\n",
       "Language: en\n",
       "Country: US\n",
       "--></g></svg>"
      ],
      "text/plain": [
       "<IPython.core.display.SVG object>"
      ]
     },
     "execution_count": 3,
     "metadata": {},
     "output_type": "execute_result"
    }
   ],
   "source": [
    "%%plantuml\n",
    "\n",
    "@startuml\n",
    "Poble ||..|| Alcalde\n",
    "@enduml"
   ]
  },
  {
   "cell_type": "markdown",
   "id": "8bf4e4fa",
   "metadata": {},
   "source": [
    "### Cardinalitat de les relacions: 1 a N i N a 1"
   ]
  },
  {
   "cell_type": "markdown",
   "id": "47aaca70",
   "metadata": {},
   "source": [
    "> **1 a N**: Una entitat de tipus A s'interrelaciona amb zero, una o moltes entitats de tipus B, però una entitat de tipus B només s'interrelaciona amb una única entitat de tipus A.\n",
    "\n",
    "**Exemple de cardinalitat 1 a N**: Un _poble_ pot tenir molts _habitants_ empadronats, però cada _habitant_ només pot estar empadronat a un sol _poble_."
   ]
  },
  {
   "cell_type": "markdown",
   "id": "24f19873",
   "metadata": {},
   "source": [
    "> **N a 1**: Una entitat de tipus A només es pot interrelacionar amb una única entitat de tipus B, la qual es pot interrelacionar amb zero, una o moltes entitats de tipus A.\n",
    "\n",
    "**Exemple de cardinalitat N a 1**: Un _fill_ té només una _dona_ com a mare, però una _dona_ pot ser mare d'un o més _fills_ (o no tenir-ne)."
   ]
  },
  {
   "cell_type": "markdown",
   "id": "24bb11e4",
   "metadata": {},
   "source": [
    "Ambdós casos són iguals si s'intercanvia l'ordre de les entitats.\n",
    "\n",
    "També existeix la cardinalitat **1 a N** (o N a 1) en la qual l'entitat que s'interrelaciona amb N entitats de l'altre tipus, **ho ha de fer com a mínim amb 1 entitat** (no pot interrelacionar-se amb zero o cap entitat de l'altre tipus)."
   ]
  },
  {
   "cell_type": "code",
   "execution_count": 2,
   "id": "3758746f",
   "metadata": {
    "ExecuteTime": {
     "end_time": "2021-08-09T16:36:36.472521Z",
     "start_time": "2021-08-09T16:36:34.828479Z"
    },
    "code_folding": [
     0
    ]
   },
   "outputs": [
    {
     "data": {
      "image/svg+xml": [
       "<svg xmlns=\"http://www.w3.org/2000/svg\" xmlns:xlink=\"http://www.w3.org/1999/xlink\" contentScriptType=\"application/ecmascript\" contentStyleType=\"text/css\" height=\"177px\" preserveAspectRatio=\"none\" style=\"width:102px;height:177px;background:#FFFFFF;\" version=\"1.1\" viewBox=\"0 0 102 177\" width=\"102px\" zoomAndPan=\"magnify\"><defs><filter height=\"300%\" id=\"f17nv4xi6fzjiw\" width=\"300%\" x=\"-1\" y=\"-1\"><feGaussianBlur result=\"blurOut\" stdDeviation=\"2.0\"/><feColorMatrix in=\"blurOut\" result=\"blurOut2\" type=\"matrix\" values=\"0 0 0 0 0 0 0 0 0 0 0 0 0 0 0 0 0 0 .4 0\"/><feOffset dx=\"4.0\" dy=\"4.0\" in=\"blurOut2\" result=\"blurOut3\"/><feBlend in=\"SourceGraphic\" in2=\"blurOut3\" mode=\"normal\"/></filter></defs><g><!--MD5=[1722f3be388fea74aa540ae64204d19a]\n",
       "class Habitant--><rect fill=\"#FEFECE\" filter=\"url(#f17nv4xi6fzjiw)\" height=\"48\" id=\"Habitant\" style=\"stroke:#A80036;stroke-width:1.5;\" width=\"81\" x=\"7\" y=\"7\"/><ellipse cx=\"22\" cy=\"23\" fill=\"#ADD1B2\" rx=\"11\" ry=\"11\" style=\"stroke:#A80036;stroke-width:1.0;\"/><path d=\"M24.3438,18.6719 C23.4063,18.2344 22.8125,18.0938 21.9375,18.0938 C19.3125,18.0938 17.3125,20.1719 17.3125,22.8906 L17.3125,24.0156 C17.3125,26.5938 19.4219,28.4844 22.3125,28.4844 C23.5313,28.4844 24.6875,28.1875 25.4375,27.6406 C26.0156,27.2344 26.3438,26.7813 26.3438,26.3906 C26.3438,25.9375 25.9531,25.5469 25.4844,25.5469 C25.2656,25.5469 25.0625,25.625 24.875,25.8125 C24.4219,26.2969 24.4219,26.2969 24.2344,26.3906 C23.8125,26.6563 23.125,26.7813 22.3594,26.7813 C20.3125,26.7813 19.0156,25.6875 19.0156,23.9844 L19.0156,22.8906 C19.0156,21.1094 20.2656,19.7969 22,19.7969 C22.5781,19.7969 23.1875,19.9531 23.6563,20.2031 C24.1406,20.4844 24.3125,20.7031 24.4063,21.1094 C24.4688,21.5156 24.5,21.6406 24.6406,21.7656 C24.7813,21.9063 25.0156,22.0156 25.2344,22.0156 C25.5,22.0156 25.7656,21.875 25.9375,21.6563 C26.0469,21.5 26.0781,21.3125 26.0781,20.8906 L26.0781,19.4688 C26.0781,19.0313 26.0625,18.9063 25.9688,18.75 C25.8125,18.4844 25.5313,18.3438 25.2344,18.3438 C24.9375,18.3438 24.7344,18.4375 24.5156,18.75 L24.3438,18.6719 Z \" fill=\"#000000\"/><text fill=\"#000000\" font-family=\"sans-serif\" font-size=\"12\" lengthAdjust=\"spacing\" textLength=\"49\" x=\"36\" y=\"27.1543\">Habitant</text><line style=\"stroke:#A80036;stroke-width:1.5;\" x1=\"8\" x2=\"87\" y1=\"39\" y2=\"39\"/><line style=\"stroke:#A80036;stroke-width:1.5;\" x1=\"8\" x2=\"87\" y1=\"47\" y2=\"47\"/><!--MD5=[ac4a40fb5d78e2059c4373d4b718e64f]\n",
       "class Poble--><rect fill=\"#FEFECE\" filter=\"url(#f17nv4xi6fzjiw)\" height=\"48\" id=\"Poble\" style=\"stroke:#A80036;stroke-width:1.5;\" width=\"65\" x=\"15\" y=\"115\"/><ellipse cx=\"30\" cy=\"131\" fill=\"#ADD1B2\" rx=\"11\" ry=\"11\" style=\"stroke:#A80036;stroke-width:1.0;\"/><path d=\"M32.3438,126.6719 C31.4063,126.2344 30.8125,126.0938 29.9375,126.0938 C27.3125,126.0938 25.3125,128.1719 25.3125,130.8906 L25.3125,132.0156 C25.3125,134.5938 27.4219,136.4844 30.3125,136.4844 C31.5313,136.4844 32.6875,136.1875 33.4375,135.6406 C34.0156,135.2344 34.3438,134.7813 34.3438,134.3906 C34.3438,133.9375 33.9531,133.5469 33.4844,133.5469 C33.2656,133.5469 33.0625,133.625 32.875,133.8125 C32.4219,134.2969 32.4219,134.2969 32.2344,134.3906 C31.8125,134.6563 31.125,134.7813 30.3594,134.7813 C28.3125,134.7813 27.0156,133.6875 27.0156,131.9844 L27.0156,130.8906 C27.0156,129.1094 28.2656,127.7969 30,127.7969 C30.5781,127.7969 31.1875,127.9531 31.6563,128.2031 C32.1406,128.4844 32.3125,128.7031 32.4063,129.1094 C32.4688,129.5156 32.5,129.6406 32.6406,129.7656 C32.7813,129.9063 33.0156,130.0156 33.2344,130.0156 C33.5,130.0156 33.7656,129.875 33.9375,129.6563 C34.0469,129.5 34.0781,129.3125 34.0781,128.8906 L34.0781,127.4688 C34.0781,127.0313 34.0625,126.9063 33.9688,126.75 C33.8125,126.4844 33.5313,126.3438 33.2344,126.3438 C32.9375,126.3438 32.7344,126.4375 32.5156,126.75 L32.3438,126.6719 Z \" fill=\"#000000\"/><text fill=\"#000000\" font-family=\"sans-serif\" font-size=\"12\" lengthAdjust=\"spacing\" textLength=\"33\" x=\"44\" y=\"135.1543\">Poble</text><line style=\"stroke:#A80036;stroke-width:1.5;\" x1=\"16\" x2=\"79\" y1=\"147\" y2=\"147\"/><line style=\"stroke:#A80036;stroke-width:1.5;\" x1=\"16\" x2=\"79\" y1=\"155\" y2=\"155\"/><!--MD5=[684b935be0398239326bcbe497f3baac]\n",
       "link Habitant to Poble--><path codeLine=\"1\" d=\"M47.5,63.2585 C47.5,76.8932 47.5,92.8501 47.5,106.5107 \" fill=\"none\" id=\"Habitant-Poble\" style=\"stroke:#A80036;stroke-width:1.0;stroke-dasharray:7.0,7.0;\"/><line style=\"stroke:#A80036;stroke-width:1.0;\" x1=\"51.5\" x2=\"43.5\" y1=\"110.6784\" y2=\"110.6784\"/><line style=\"stroke:#A80036;stroke-width:1.0;\" x1=\"51.5\" x2=\"43.5\" y1=\"107.6784\" y2=\"107.6784\"/><line style=\"stroke:#A80036;stroke-width:1.0;\" x1=\"47.5\" x2=\"47.5\" y1=\"106.6784\" y2=\"114.6784\"/><line style=\"stroke:#A80036;stroke-width:1.0;\" x1=\"47.5\" x2=\"41.5\" y1=\"63\" y2=\"55\"/><line style=\"stroke:#A80036;stroke-width:1.0;\" x1=\"47.5\" x2=\"53.5\" y1=\"63\" y2=\"55\"/><line style=\"stroke:#A80036;stroke-width:1.0;\" x1=\"47.5\" x2=\"47.5\" y1=\"63\" y2=\"55\"/><ellipse cx=\"47.5\" cy=\"69\" rx=\"4\" ry=\"4\" style=\"stroke:#A80036;stroke-width:1.0;fill:none;\"/><!--MD5=[2977d03c7644936eba9f758e69488b21]\n",
       "@startuml\n",
       "Habitant }o..|| Poble\n",
       "@enduml\n",
       "\n",
       "PlantUML version 1.2021.10beta2(Unknown compile time)\n",
       "(GPL source distribution)\n",
       "Java Runtime: Java(TM) SE Runtime Environment\n",
       "JVM: Java HotSpot(TM) 64-Bit Server VM\n",
       "Default Encoding: UTF-8\n",
       "Language: en\n",
       "Country: US\n",
       "--></g></svg>"
      ],
      "text/plain": [
       "<IPython.core.display.SVG object>"
      ]
     },
     "execution_count": 2,
     "metadata": {},
     "output_type": "execute_result"
    }
   ],
   "source": [
    "%%plantuml\n",
    "\n",
    "@startuml\n",
    "Habitant }o..|| Poble\n",
    "@enduml"
   ]
  },
  {
   "cell_type": "markdown",
   "id": "06fbb911",
   "metadata": {},
   "source": [
    "### Cardinalitat de les relacions: N a M"
   ]
  },
  {
   "cell_type": "markdown",
   "id": "fb9c3b78",
   "metadata": {},
   "source": [
    "> **N a M**: Una entitat de tipus A es pot interrelacionar amb zero, una o moltes entitats de tipus B, la qual es pot interrelacionar també amb zero, una o moltes entitats de tipus A.\n",
    "\n",
    "**Exemple de cardinalitat N a M**: Un _alumne_ es pot matricular d'una o moltes _assignatures_, i una _assignatura_ pot tenir un o molts _alumnes_ matriculats."
   ]
  },
  {
   "cell_type": "code",
   "execution_count": 8,
   "id": "538ecb87",
   "metadata": {
    "ExecuteTime": {
     "end_time": "2021-08-09T16:58:09.563882Z",
     "start_time": "2021-08-09T16:58:07.954829Z"
    },
    "code_folding": [
     0
    ]
   },
   "outputs": [
    {
     "data": {
      "image/svg+xml": [
       "<svg xmlns=\"http://www.w3.org/2000/svg\" xmlns:xlink=\"http://www.w3.org/1999/xlink\" contentScriptType=\"application/ecmascript\" contentStyleType=\"text/css\" height=\"177px\" preserveAspectRatio=\"none\" style=\"width:123px;height:177px;background:#FFFFFF;\" version=\"1.1\" viewBox=\"0 0 123 177\" width=\"123px\" zoomAndPan=\"magnify\"><defs><filter height=\"300%\" id=\"f2xv4c7uq0ku\" width=\"300%\" x=\"-1\" y=\"-1\"><feGaussianBlur result=\"blurOut\" stdDeviation=\"2.0\"/><feColorMatrix in=\"blurOut\" result=\"blurOut2\" type=\"matrix\" values=\"0 0 0 0 0 0 0 0 0 0 0 0 0 0 0 0 0 0 .4 0\"/><feOffset dx=\"4.0\" dy=\"4.0\" in=\"blurOut2\" result=\"blurOut3\"/><feBlend in=\"SourceGraphic\" in2=\"blurOut3\" mode=\"normal\"/></filter></defs><g><!--MD5=[40f599e0d1722c31fc1c2f2570c44373]\n",
       "class Assignatura--><rect fill=\"#FEFECE\" filter=\"url(#f2xv4c7uq0ku)\" height=\"48\" id=\"Assignatura\" style=\"stroke:#A80036;stroke-width:1.5;\" width=\"102\" x=\"7\" y=\"7\"/><ellipse cx=\"22\" cy=\"23\" fill=\"#ADD1B2\" rx=\"11\" ry=\"11\" style=\"stroke:#A80036;stroke-width:1.0;\"/><path d=\"M24.3438,18.6719 C23.4063,18.2344 22.8125,18.0938 21.9375,18.0938 C19.3125,18.0938 17.3125,20.1719 17.3125,22.8906 L17.3125,24.0156 C17.3125,26.5938 19.4219,28.4844 22.3125,28.4844 C23.5313,28.4844 24.6875,28.1875 25.4375,27.6406 C26.0156,27.2344 26.3438,26.7813 26.3438,26.3906 C26.3438,25.9375 25.9531,25.5469 25.4844,25.5469 C25.2656,25.5469 25.0625,25.625 24.875,25.8125 C24.4219,26.2969 24.4219,26.2969 24.2344,26.3906 C23.8125,26.6563 23.125,26.7813 22.3594,26.7813 C20.3125,26.7813 19.0156,25.6875 19.0156,23.9844 L19.0156,22.8906 C19.0156,21.1094 20.2656,19.7969 22,19.7969 C22.5781,19.7969 23.1875,19.9531 23.6563,20.2031 C24.1406,20.4844 24.3125,20.7031 24.4063,21.1094 C24.4688,21.5156 24.5,21.6406 24.6406,21.7656 C24.7813,21.9063 25.0156,22.0156 25.2344,22.0156 C25.5,22.0156 25.7656,21.875 25.9375,21.6563 C26.0469,21.5 26.0781,21.3125 26.0781,20.8906 L26.0781,19.4688 C26.0781,19.0313 26.0625,18.9063 25.9688,18.75 C25.8125,18.4844 25.5313,18.3438 25.2344,18.3438 C24.9375,18.3438 24.7344,18.4375 24.5156,18.75 L24.3438,18.6719 Z \" fill=\"#000000\"/><text fill=\"#000000\" font-family=\"sans-serif\" font-size=\"12\" lengthAdjust=\"spacing\" textLength=\"70\" x=\"36\" y=\"27.1543\">Assignatura</text><line style=\"stroke:#A80036;stroke-width:1.5;\" x1=\"8\" x2=\"108\" y1=\"39\" y2=\"39\"/><line style=\"stroke:#A80036;stroke-width:1.5;\" x1=\"8\" x2=\"108\" y1=\"47\" y2=\"47\"/><!--MD5=[ab7eb0b1696185d971b5e626c937decb]\n",
       "class Alumne--><rect fill=\"#FEFECE\" filter=\"url(#f2xv4c7uq0ku)\" height=\"48\" id=\"Alumne\" style=\"stroke:#A80036;stroke-width:1.5;\" width=\"76\" x=\"20\" y=\"115\"/><ellipse cx=\"35\" cy=\"131\" fill=\"#ADD1B2\" rx=\"11\" ry=\"11\" style=\"stroke:#A80036;stroke-width:1.0;\"/><path d=\"M37.3438,126.6719 C36.4063,126.2344 35.8125,126.0938 34.9375,126.0938 C32.3125,126.0938 30.3125,128.1719 30.3125,130.8906 L30.3125,132.0156 C30.3125,134.5938 32.4219,136.4844 35.3125,136.4844 C36.5313,136.4844 37.6875,136.1875 38.4375,135.6406 C39.0156,135.2344 39.3438,134.7813 39.3438,134.3906 C39.3438,133.9375 38.9531,133.5469 38.4844,133.5469 C38.2656,133.5469 38.0625,133.625 37.875,133.8125 C37.4219,134.2969 37.4219,134.2969 37.2344,134.3906 C36.8125,134.6563 36.125,134.7813 35.3594,134.7813 C33.3125,134.7813 32.0156,133.6875 32.0156,131.9844 L32.0156,130.8906 C32.0156,129.1094 33.2656,127.7969 35,127.7969 C35.5781,127.7969 36.1875,127.9531 36.6563,128.2031 C37.1406,128.4844 37.3125,128.7031 37.4063,129.1094 C37.4688,129.5156 37.5,129.6406 37.6406,129.7656 C37.7813,129.9063 38.0156,130.0156 38.2344,130.0156 C38.5,130.0156 38.7656,129.875 38.9375,129.6563 C39.0469,129.5 39.0781,129.3125 39.0781,128.8906 L39.0781,127.4688 C39.0781,127.0313 39.0625,126.9063 38.9688,126.75 C38.8125,126.4844 38.5313,126.3438 38.2344,126.3438 C37.9375,126.3438 37.7344,126.4375 37.5156,126.75 L37.3438,126.6719 Z \" fill=\"#000000\"/><text fill=\"#000000\" font-family=\"sans-serif\" font-size=\"12\" lengthAdjust=\"spacing\" textLength=\"44\" x=\"49\" y=\"135.1543\">Alumne</text><line style=\"stroke:#A80036;stroke-width:1.5;\" x1=\"21\" x2=\"95\" y1=\"147\" y2=\"147\"/><line style=\"stroke:#A80036;stroke-width:1.5;\" x1=\"21\" x2=\"95\" y1=\"155\" y2=\"155\"/><!--MD5=[0d5d0ce0b2ac4ae5b5748adabcdea79e]\n",
       "link Assignatura to Alumne--><path codeLine=\"1\" d=\"M58,63.2585 C58,76.8932 58,92.8501 58,106.5107 \" fill=\"none\" id=\"Assignatura-Alumne\" style=\"stroke:#A80036;stroke-width:1.0;stroke-dasharray:7.0,7.0;\"/><line style=\"stroke:#A80036;stroke-width:1.0;\" x1=\"58\" x2=\"64\" y1=\"106.6784\" y2=\"114.6784\"/><line style=\"stroke:#A80036;stroke-width:1.0;\" x1=\"58\" x2=\"52\" y1=\"106.6784\" y2=\"114.6784\"/><line style=\"stroke:#A80036;stroke-width:1.0;\" x1=\"58\" x2=\"58\" y1=\"106.6784\" y2=\"114.6784\"/><ellipse cx=\"58\" cy=\"100.6784\" rx=\"4\" ry=\"4\" style=\"stroke:#A80036;stroke-width:1.0;fill:none;\"/><line style=\"stroke:#A80036;stroke-width:1.0;fill:none;\" x1=\"58\" x2=\"52\" y1=\"63\" y2=\"55\"/><line style=\"stroke:#A80036;stroke-width:1.0;fill:none;\" x1=\"58\" x2=\"64\" y1=\"63\" y2=\"55\"/><line style=\"stroke:#A80036;stroke-width:1.0;fill:none;\" x1=\"58\" x2=\"58\" y1=\"63\" y2=\"55\"/><line style=\"stroke:#A80036;stroke-width:1.0;fill:none;\" x1=\"54\" x2=\"62\" y1=\"65\" y2=\"65\"/><!--MD5=[5fe69c19817d10e540a4e1ad4c801480]\n",
       "@startuml\n",
       "Assignatura }|..o{ Alumne\n",
       "@enduml\n",
       "\n",
       "PlantUML version 1.2021.10beta2(Unknown compile time)\n",
       "(GPL source distribution)\n",
       "Java Runtime: Java(TM) SE Runtime Environment\n",
       "JVM: Java HotSpot(TM) 64-Bit Server VM\n",
       "Default Encoding: UTF-8\n",
       "Language: en\n",
       "Country: US\n",
       "--></g></svg>"
      ],
      "text/plain": [
       "<IPython.core.display.SVG object>"
      ]
     },
     "execution_count": 8,
     "metadata": {},
     "output_type": "execute_result"
    }
   ],
   "source": [
    "%%plantuml\n",
    "@startuml\n",
    "Assignatura }|..o{ Alumne\n",
    "@enduml"
   ]
  },
  {
   "cell_type": "markdown",
   "id": "bb21674f",
   "metadata": {},
   "source": [
    "Fixeu-vos en el detall en l'aquest anterior DER: un alumne ha d'estar matriculat, com a mínim, d'una assignatura (sinó, no és alumme), mentre que una assignatura pot tenir zero alumnes matriculats."
   ]
  },
  {
   "cell_type": "markdown",
   "id": "531fbfe2",
   "metadata": {},
   "source": [
    "## Atributs"
   ]
  },
  {
   "cell_type": "markdown",
   "id": "9610c92e",
   "metadata": {},
   "source": [
    "Els atributs **són les propietats o característiques que descriuen a una entitat** (o també una relació entre entitats).\n",
    "\n",
    "Els atributs **han de ser de tipus atòmic**, és a dir, no descomponibles (un número enter, una cadena de caràcters, un booleà, etc.). \n",
    "\n",
    "Així doncs, els atributs no poden ser de tipus agregat, és a dir, no poden ser llistes, vectors, etc.\n",
    "\n",
    "**Exemple**:"
   ]
  },
  {
   "cell_type": "code",
   "execution_count": 10,
   "id": "cd5df069",
   "metadata": {
    "ExecuteTime": {
     "end_time": "2021-08-09T17:17:46.376178Z",
     "start_time": "2021-08-09T17:17:44.848535Z"
    }
   },
   "outputs": [
    {
     "data": {
      "image/svg+xml": [
       "<svg xmlns=\"http://www.w3.org/2000/svg\" xmlns:xlink=\"http://www.w3.org/1999/xlink\" contentScriptType=\"application/ecmascript\" contentStyleType=\"text/css\" height=\"133px\" preserveAspectRatio=\"none\" style=\"width:219px;height:133px;background:#FFFFFF;\" version=\"1.1\" viewBox=\"0 0 219 133\" width=\"219px\" zoomAndPan=\"magnify\"><defs><filter height=\"300%\" id=\"f1ifn5p42az9xz\" width=\"300%\" x=\"-1\" y=\"-1\"><feGaussianBlur result=\"blurOut\" stdDeviation=\"2.0\"/><feColorMatrix in=\"blurOut\" result=\"blurOut2\" type=\"matrix\" values=\"0 0 0 0 0 0 0 0 0 0 0 0 0 0 0 0 0 0 .4 0\"/><feOffset dx=\"4.0\" dy=\"4.0\" in=\"blurOut2\" result=\"blurOut3\"/><feBlend in=\"SourceGraphic\" in2=\"blurOut3\" mode=\"normal\"/></filter></defs><g><!--MD5=[44e3be5e93100f87f3b6fc2e9bda0b10]\n",
       "class e01--><rect codeLine=\"1\" fill=\"#FEFECE\" filter=\"url(#f1ifn5p42az9xz)\" height=\"112.0234\" id=\"e01\" style=\"stroke:#A80036;stroke-width:1.5;\" width=\"198\" x=\"7\" y=\"7\"/><ellipse cx=\"74.25\" cy=\"23\" fill=\"#ADD1B2\" rx=\"11\" ry=\"11\" style=\"stroke:#A80036;stroke-width:1.0;\"/><path d=\"M73.0469,23.875 L74.5,23.875 L74.5,23.9844 C74.5,24.3906 74.5313,24.5469 74.6094,24.7031 C74.7656,24.9531 75.0469,25.1094 75.3438,25.1094 C75.5938,25.1094 75.8594,24.9688 76.0156,24.75 C76.1406,24.5938 76.1719,24.4375 76.1719,23.9844 L76.1719,22.0625 C76.1719,21.9063 76.1719,21.8594 76.1563,21.7031 C76.0938,21.2344 75.7813,20.9219 75.3281,20.9219 C75.0781,20.9219 74.8125,21.0625 74.6406,21.2813 C74.5313,21.4531 74.5,21.6094 74.5,22.0625 L74.5,22.1875 L73.0469,22.1875 L73.0469,19.7813 L77.0313,19.7813 L77.0313,20.6406 C77.0313,21.0469 77.0625,21.2188 77.1406,21.375 C77.3125,21.625 77.5938,21.7813 77.875,21.7813 C78.1406,21.7813 78.4063,21.6406 78.5781,21.4219 C78.6875,21.25 78.7188,21.1094 78.7188,20.6406 L78.7188,18.0938 L71.0938,18.0938 C70.6563,18.0938 70.5313,18.1094 70.375,18.2031 C70.125,18.3594 69.9688,18.6563 69.9688,18.9375 C69.9688,19.2188 70.1094,19.4688 70.3281,19.6406 C70.4844,19.75 70.6719,19.7813 71.0938,19.7813 L71.3438,19.7813 L71.3438,26.2969 L71.0938,26.2969 C70.6875,26.2969 70.5313,26.3125 70.375,26.4219 C70.125,26.5938 69.9688,26.8594 69.9688,27.1563 C69.9688,27.4219 70.1094,27.6719 70.3281,27.8281 C70.4688,27.9531 70.7031,28 71.0938,28 L79.0938,28 L79.0938,25.4219 C79.0938,24.9844 79.0625,24.8438 78.9844,24.6875 C78.8125,24.4375 78.5313,24.2813 78.25,24.2813 C77.9844,24.2813 77.7188,24.3906 77.5469,24.6406 C77.4375,24.7969 77.4063,24.9375 77.4063,25.4219 L77.4063,26.2969 L73.0469,26.2969 L73.0469,23.875 Z \" fill=\"#000000\"/><text fill=\"#000000\" font-family=\"sans-serif\" font-size=\"12\" lengthAdjust=\"spacing\" textLength=\"55\" x=\"94.75\" y=\"27.1543\">Empleats</text><line style=\"stroke:#A80036;stroke-width:1.5;\" x1=\"8\" x2=\"204\" y1=\"39\" y2=\"39\"/><ellipse cx=\"18\" cy=\"50\" fill=\"#000000\" rx=\"3\" ry=\"3\" style=\"stroke:#000000;stroke-width:1.0;\"/><text fill=\"#000000\" font-family=\"sans-serif\" font-size=\"11\" lengthAdjust=\"spacing\" textLength=\"154\" x=\"27\" y=\"53.2104\">empleat_id : INTEGER «PK»</text><line style=\"stroke:#A80036;stroke-width:1.0;\" x1=\"8\" x2=\"204\" y1=\"59.8047\" y2=\"59.8047\"/><ellipse cx=\"18\" cy=\"70.8047\" fill=\"#000000\" rx=\"3\" ry=\"3\" style=\"stroke:#000000;stroke-width:1.0;\"/><text fill=\"#000000\" font-family=\"sans-serif\" font-size=\"11\" lengthAdjust=\"spacing\" textLength=\"108\" x=\"27\" y=\"74.0151\">nom: VARCHAR(15)</text><ellipse cx=\"18\" cy=\"83.6094\" fill=\"#000000\" rx=\"3\" ry=\"3\" style=\"stroke:#000000;stroke-width:1.0;\"/><text fill=\"#000000\" font-family=\"sans-serif\" font-size=\"11\" lengthAdjust=\"spacing\" textLength=\"134\" x=\"27\" y=\"86.8198\">cognoms: VARCHAR(20)</text><ellipse cx=\"18\" cy=\"96.4141\" fill=\"#000000\" rx=\"3\" ry=\"3\" style=\"stroke:#000000;stroke-width:1.0;\"/><text fill=\"#000000\" font-family=\"sans-serif\" font-size=\"11\" lengthAdjust=\"spacing\" textLength=\"132\" x=\"27\" y=\"99.6245\">data_neixement: DATE</text><text fill=\"#000000\" font-family=\"sans-serif\" font-size=\"11\" lengthAdjust=\"spacing\" textLength=\"172\" x=\"27\" y=\"112.4292\">contracte_temporal: BOOLEAN</text><!--MD5=[e6f96cfd5e549a254f9fa5cd7eeed2db]\n",
       "@startuml\n",
       "entity \"Empleats\" as e01 {\n",
       "  *empleat_id : INTEGER <<PK>>\n",
       "  - -\n",
       "  *nom: VARCHAR(15)\n",
       "  *cognoms: VARCHAR(20)\n",
       "  *data_neixement: DATE\n",
       "   contracte_temporal: BOOLEAN\n",
       "}\n",
       "@enduml\n",
       "\n",
       "PlantUML version 1.2021.10beta2(Unknown compile time)\n",
       "(GPL source distribution)\n",
       "Java Runtime: Java(TM) SE Runtime Environment\n",
       "JVM: Java HotSpot(TM) 64-Bit Server VM\n",
       "Default Encoding: UTF-8\n",
       "Language: en\n",
       "Country: US\n",
       "--></g></svg>"
      ],
      "text/plain": [
       "<IPython.core.display.SVG object>"
      ]
     },
     "execution_count": 10,
     "metadata": {},
     "output_type": "execute_result"
    }
   ],
   "source": [
    "%%plantuml\n",
    "@startuml\n",
    "entity \"Empleats\" as e01 {\n",
    "  *empleat_id : INTEGER <<PK>>\n",
    "  --\n",
    "  *nom: VARCHAR(15)\n",
    "  *cognoms: VARCHAR(20)\n",
    "  *data_neixement: DATE\n",
    "   contracte_temporal: BOOLEAN\n",
    "}\n",
    "@enduml"
   ]
  },
  {
   "cell_type": "markdown",
   "id": "490e39fb",
   "metadata": {},
   "source": [
    "## Exemple complet"
   ]
  },
  {
   "cell_type": "code",
   "execution_count": 13,
   "id": "fc01ed63",
   "metadata": {
    "ExecuteTime": {
     "end_time": "2021-08-09T17:22:47.280519Z",
     "start_time": "2021-08-09T17:22:46.641552Z"
    }
   },
   "outputs": [
    {
     "data": {
      "image/svg+xml": [
       "<svg xmlns=\"http://www.w3.org/2000/svg\" xmlns:xlink=\"http://www.w3.org/1999/xlink\" contentScriptType=\"application/ecmascript\" contentStyleType=\"text/css\" height=\"237px\" preserveAspectRatio=\"none\" style=\"width:436px;height:237px;background:#FFFFFF;\" version=\"1.1\" viewBox=\"0 0 436 237\" width=\"436px\" zoomAndPan=\"magnify\"><defs><filter height=\"300%\" id=\"f1u682xnvvx6g6\" width=\"300%\" x=\"-1\" y=\"-1\"><feGaussianBlur result=\"blurOut\" stdDeviation=\"2.0\"/><feColorMatrix in=\"blurOut\" result=\"blurOut2\" type=\"matrix\" values=\"0 0 0 0 0 0 0 0 0 0 0 0 0 0 0 0 0 0 .4 0\"/><feOffset dx=\"4.0\" dy=\"4.0\" in=\"blurOut2\" result=\"blurOut3\"/><feBlend in=\"SourceGraphic\" in2=\"blurOut3\" mode=\"normal\"/></filter></defs><g><!--MD5=[44e3be5e93100f87f3b6fc2e9bda0b10]\n",
       "class e01--><rect codeLine=\"7\" fill=\"#FEFECE\" filter=\"url(#f1u682xnvvx6g6)\" height=\"78.3828\" id=\"e01\" style=\"stroke:#A80036;stroke-width:1.5;\" width=\"190\" x=\"119\" y=\"7\"/><text fill=\"#000000\" font-family=\"sans-serif\" font-size=\"12\" lengthAdjust=\"spacing\" textLength=\"47\" x=\"190.5\" y=\"23.1387\">Entity01</text><line style=\"stroke:#A80036;stroke-width:1.5;\" x1=\"120\" x2=\"308\" y1=\"30.9688\" y2=\"30.9688\"/><ellipse cx=\"130\" cy=\"41.9688\" fill=\"#000000\" rx=\"3\" ry=\"3\" style=\"stroke:#000000;stroke-width:1.0;\"/><text fill=\"#000000\" font-family=\"sans-serif\" font-size=\"11\" lengthAdjust=\"spacing\" textLength=\"164\" x=\"139\" y=\"45.1792\">e1_id : number «generated»</text><line style=\"stroke:#A80036;stroke-width:1.0;\" x1=\"120\" x2=\"308\" y1=\"51.7734\" y2=\"51.7734\"/><ellipse cx=\"130\" cy=\"62.7734\" fill=\"#000000\" rx=\"3\" ry=\"3\" style=\"stroke:#000000;stroke-width:1.0;\"/><text fill=\"#000000\" font-family=\"sans-serif\" font-size=\"11\" lengthAdjust=\"spacing\" textLength=\"67\" x=\"139\" y=\"65.9839\">name : text</text><text fill=\"#000000\" font-family=\"sans-serif\" font-size=\"11\" lengthAdjust=\"spacing\" textLength=\"96\" x=\"139\" y=\"78.7886\">description : text</text><!--MD5=[a7e3466bc31fc7f02d93123623092e97]\n",
       "class e02--><rect codeLine=\"14\" fill=\"#FEFECE\" filter=\"url(#f1u682xnvvx6g6)\" height=\"78.3828\" id=\"e02\" style=\"stroke:#A80036;stroke-width:1.5;\" width=\"190\" x=\"7\" y=\"145\"/><text fill=\"#000000\" font-family=\"sans-serif\" font-size=\"12\" lengthAdjust=\"spacing\" textLength=\"48\" x=\"78\" y=\"161.1387\">Entity02</text><line style=\"stroke:#A80036;stroke-width:1.5;\" x1=\"8\" x2=\"196\" y1=\"168.9688\" y2=\"168.9688\"/><ellipse cx=\"18\" cy=\"179.9688\" fill=\"#000000\" rx=\"3\" ry=\"3\" style=\"stroke:#000000;stroke-width:1.0;\"/><text fill=\"#000000\" font-family=\"sans-serif\" font-size=\"11\" lengthAdjust=\"spacing\" textLength=\"164\" x=\"27\" y=\"183.1792\">e2_id : number «generated»</text><line style=\"stroke:#A80036;stroke-width:1.0;\" x1=\"8\" x2=\"196\" y1=\"189.7734\" y2=\"189.7734\"/><ellipse cx=\"18\" cy=\"200.7734\" fill=\"#000000\" rx=\"3\" ry=\"3\" style=\"stroke:#000000;stroke-width:1.0;\"/><text fill=\"#000000\" font-family=\"sans-serif\" font-size=\"11\" lengthAdjust=\"spacing\" textLength=\"117\" x=\"27\" y=\"203.9839\">e1_id : number «FK»</text><text fill=\"#000000\" font-family=\"sans-serif\" font-size=\"11\" lengthAdjust=\"spacing\" textLength=\"108\" x=\"27\" y=\"216.7886\">other_details : text</text><!--MD5=[7d712c38379410506897aa674a718ccb]\n",
       "class e03--><rect codeLine=\"21\" fill=\"#FEFECE\" filter=\"url(#f1u682xnvvx6g6)\" height=\"78.3828\" id=\"e03\" style=\"stroke:#A80036;stroke-width:1.5;\" width=\"190\" x=\"232\" y=\"145\"/><text fill=\"#000000\" font-family=\"sans-serif\" font-size=\"12\" lengthAdjust=\"spacing\" textLength=\"48\" x=\"303\" y=\"161.1387\">Entity03</text><line style=\"stroke:#A80036;stroke-width:1.5;\" x1=\"233\" x2=\"421\" y1=\"168.9688\" y2=\"168.9688\"/><ellipse cx=\"243\" cy=\"179.9688\" fill=\"#000000\" rx=\"3\" ry=\"3\" style=\"stroke:#000000;stroke-width:1.0;\"/><text fill=\"#000000\" font-family=\"sans-serif\" font-size=\"11\" lengthAdjust=\"spacing\" textLength=\"164\" x=\"252\" y=\"183.1792\">e3_id : number «generated»</text><line style=\"stroke:#A80036;stroke-width:1.0;\" x1=\"233\" x2=\"421\" y1=\"189.7734\" y2=\"189.7734\"/><text fill=\"#000000\" font-family=\"sans-serif\" font-size=\"11\" lengthAdjust=\"spacing\" textLength=\"117\" x=\"238\" y=\"203.9839\">e1_id : number «FK»</text><text fill=\"#000000\" font-family=\"sans-serif\" font-size=\"11\" lengthAdjust=\"spacing\" textLength=\"108\" x=\"238\" y=\"216.7886\">other_details : text</text><!--MD5=[a68fd74e026c2ef059eea4f9e7250427]\n",
       "link e01 to e02--><path codeLine=\"28\" d=\"M158,93.176 C158,93.176 158,136.7259 158,136.7259 \" fill=\"none\" id=\"e01-e02\" style=\"stroke:#A80036;stroke-width:1.0;stroke-dasharray:7.0,7.0;\"/><line style=\"stroke:#A80036;stroke-width:1.0;\" x1=\"158\" x2=\"164\" y1=\"136.7259\" y2=\"144.7259\"/><line style=\"stroke:#A80036;stroke-width:1.0;\" x1=\"158\" x2=\"152\" y1=\"136.7259\" y2=\"144.7259\"/><line style=\"stroke:#A80036;stroke-width:1.0;\" x1=\"158\" x2=\"158\" y1=\"136.7259\" y2=\"144.7259\"/><ellipse cx=\"158\" cy=\"130.7259\" rx=\"4\" ry=\"4\" style=\"stroke:#A80036;stroke-width:1.0;fill:none;\"/><line style=\"stroke:#A80036;stroke-width:1.0;fill:none;\" x1=\"154\" x2=\"162\" y1=\"89.176\" y2=\"89.176\"/><line style=\"stroke:#A80036;stroke-width:1.0;fill:none;\" x1=\"154\" x2=\"162\" y1=\"92.176\" y2=\"92.176\"/><line style=\"stroke:#A80036;stroke-width:1.0;fill:none;\" x1=\"158\" x2=\"158\" y1=\"93.176\" y2=\"85.176\"/><!--MD5=[94892b7030901e411338bb3916732f4e]\n",
       "link e01 to e03--><path codeLine=\"29\" d=\"M270.5,93.176 C270.5,93.176 270.5,136.7259 270.5,136.7259 \" fill=\"none\" id=\"e01-e03\" style=\"stroke:#A80036;stroke-width:1.0;stroke-dasharray:7.0,7.0;\"/><line style=\"stroke:#A80036;stroke-width:1.0;\" x1=\"270.5\" x2=\"276.5\" y1=\"136.7259\" y2=\"144.7259\"/><line style=\"stroke:#A80036;stroke-width:1.0;\" x1=\"270.5\" x2=\"264.5\" y1=\"136.7259\" y2=\"144.7259\"/><line style=\"stroke:#A80036;stroke-width:1.0;\" x1=\"270.5\" x2=\"270.5\" y1=\"136.7259\" y2=\"144.7259\"/><ellipse cx=\"270.5\" cy=\"130.7259\" rx=\"4\" ry=\"4\" style=\"stroke:#A80036;stroke-width:1.0;fill:none;\"/><line style=\"stroke:#A80036;stroke-width:1.0;fill:none;\" x1=\"270.5\" x2=\"270.5\" y1=\"96.176\" y2=\"85.176\"/><ellipse cx=\"270.5\" cy=\"96.176\" rx=\"4\" ry=\"4\" style=\"stroke:#A80036;stroke-width:1.0;fill:none;\"/><line style=\"stroke:#A80036;stroke-width:1.0;fill:none;\" x1=\"266.5\" x2=\"274.5\" y1=\"89.176\" y2=\"89.176\"/><!--MD5=[25775e14f03b425e06dc24a6c3f51bb3]\n",
       "@startuml\n",
       "' hide the spot\n",
       "hide circle\n",
       "\n",
       "' avoid problems with angled crows feet\n",
       "skinparam linetype ortho\n",
       "\n",
       "entity \"Entity01\" as e01 {\n",
       "  *e1_id : number <<generated>>\n",
       "  - -\n",
       "  *name : text\n",
       "  description : text\n",
       "}\n",
       "\n",
       "entity \"Entity02\" as e02 {\n",
       "  *e2_id : number <<generated>>\n",
       "  - -\n",
       "  *e1_id : number <<FK>>\n",
       "  other_details : text\n",
       "}\n",
       "\n",
       "entity \"Entity03\" as e03 {\n",
       "  *e3_id : number <<generated>>\n",
       "  - -\n",
       "  e1_id : number <<FK>>\n",
       "  other_details : text\n",
       "}\n",
       "\n",
       "e01 ||..o{ e02\n",
       "e01 |o..o{ e03\n",
       "@enduml\n",
       "\n",
       "@startuml\n",
       "hide circle\n",
       "\n",
       "skinparam linetype ortho\n",
       "\n",
       "entity \"Entity01\" as e01 {\n",
       "  *e1_id : number <<generated>>\n",
       "  - -\n",
       "  *name : text\n",
       "  description : text\n",
       "}\n",
       "\n",
       "entity \"Entity02\" as e02 {\n",
       "  *e2_id : number <<generated>>\n",
       "  - -\n",
       "  *e1_id : number <<FK>>\n",
       "  other_details : text\n",
       "}\n",
       "\n",
       "entity \"Entity03\" as e03 {\n",
       "  *e3_id : number <<generated>>\n",
       "  - -\n",
       "  e1_id : number <<FK>>\n",
       "  other_details : text\n",
       "}\n",
       "\n",
       "e01 ||..o{ e02\n",
       "e01 |o..o{ e03\n",
       "@enduml\n",
       "\n",
       "PlantUML version 1.2021.10beta2(Unknown compile time)\n",
       "(GPL source distribution)\n",
       "Java Runtime: Java(TM) SE Runtime Environment\n",
       "JVM: Java HotSpot(TM) 64-Bit Server VM\n",
       "Default Encoding: UTF-8\n",
       "Language: en\n",
       "Country: US\n",
       "--></g></svg>"
      ],
      "text/plain": [
       "<IPython.core.display.SVG object>"
      ]
     },
     "execution_count": 13,
     "metadata": {},
     "output_type": "execute_result"
    }
   ],
   "source": [
    "%%plantuml\n",
    "\n",
    "@startuml\n",
    "' hide the spot\n",
    "hide circle\n",
    "\n",
    "' avoid problems with angled crows feet\n",
    "skinparam linetype ortho\n",
    "\n",
    "entity \"Entity01\" as e01 {\n",
    "  *e1_id : number <<generated>>\n",
    "  --\n",
    "  *name : text\n",
    "  description : text\n",
    "}\n",
    "\n",
    "entity \"Entity02\" as e02 {\n",
    "  *e2_id : number <<generated>>\n",
    "  --\n",
    "  *e1_id : number <<FK>>\n",
    "  other_details : text\n",
    "}\n",
    "\n",
    "entity \"Entity03\" as e03 {\n",
    "  *e3_id : number <<generated>>\n",
    "  --\n",
    "  e1_id : number <<FK>>\n",
    "  other_details : text\n",
    "}\n",
    "\n",
    "e01 ||..o{ e02\n",
    "e01 |o..o{ e03\n",
    "@enduml"
   ]
  },
  {
   "cell_type": "code",
   "execution_count": null,
   "id": "dc0f6524",
   "metadata": {},
   "outputs": [],
   "source": []
  }
 ],
 "metadata": {
  "kernelspec": {
   "display_name": "Python (Bio Spark)",
   "language": "python",
   "name": "python3"
  },
  "language_info": {
   "codemirror_mode": {
    "name": "ipython",
    "version": 3
   },
   "file_extension": ".py",
   "mimetype": "text/x-python",
   "name": "python",
   "nbconvert_exporter": "python",
   "pygments_lexer": "ipython3",
   "version": "3.8.10"
  },
  "nbTranslate": {
   "displayLangs": [
    "*"
   ],
   "hotkey": "alt-t",
   "langInMainMenu": true,
   "sourceLang": "en",
   "targetLang": "ca",
   "useGoogleTranslate": true
  },
  "toc": {
   "base_numbering": 1,
   "nav_menu": {},
   "number_sections": true,
   "sideBar": true,
   "skip_h1_title": false,
   "title_cell": "Table of Contents",
   "title_sidebar": "Contents",
   "toc_cell": false,
   "toc_position": {
    "height": "calc(100% - 180px)",
    "left": "10px",
    "top": "150px",
    "width": "183.62px"
   },
   "toc_section_display": true,
   "toc_window_display": false
  },
  "varInspector": {
   "cols": {
    "lenName": 16,
    "lenType": 16,
    "lenVar": 40
   },
   "kernels_config": {
    "python": {
     "delete_cmd_postfix": "",
     "delete_cmd_prefix": "del ",
     "library": "var_list.py",
     "varRefreshCmd": "print(var_dic_list())"
    },
    "r": {
     "delete_cmd_postfix": ") ",
     "delete_cmd_prefix": "rm(",
     "library": "var_list.r",
     "varRefreshCmd": "cat(var_dic_list()) "
    }
   },
   "types_to_exclude": [
    "module",
    "function",
    "builtin_function_or_method",
    "instance",
    "_Feature"
   ],
   "window_display": false
  }
 },
 "nbformat": 4,
 "nbformat_minor": 5
}
