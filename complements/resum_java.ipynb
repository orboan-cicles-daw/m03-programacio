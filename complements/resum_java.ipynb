{
 "cells": [
  {
   "cell_type": "markdown",
   "id": "5df3044c",
   "metadata": {},
   "source": [
    "Author: Oriol Boix Anfosso"
   ]
  },
  {
   "cell_type": "markdown",
   "id": "12261210",
   "metadata": {},
   "source": [
    "# Java: repàs breu i bàsic 1\n",
    "\n",
    "- Tipus de dades primitius\n",
    "- Declaració de variables\n",
    "- Arrays: creació, assignació i lectura.\n",
    "- Bucles: while, for, foreach.\n",
    "- Condicionals: if, else if, else.\n",
    "- Memoria: heap, stack, permgen\n",
    "- Classes i objectes\n",
    "- Visibilitat\n",
    "- Getters i setters\n",
    "- Constructors\n",
    "- Variables d'instància i de classe\n",
    "- Mètodes i mètodes estàtics\n",
    "- Tipus de dades referència"
   ]
  },
  {
   "cell_type": "markdown",
   "id": "7ab5e216",
   "metadata": {},
   "source": [
    "## Tipus de dades primitius\n",
    "\n",
    "- Numèrics:\n",
    "    byte\n",
    "    short\n",
    "    int\n",
    "    long\n",
    "    float\n",
    "    double\n",
    "- No numèrics:\n",
    "    char\n",
    "    boolean\n",
    "\n",
    "_Exemples_:\n",
    "\n",
    "    "
   ]
  },
  {
   "cell_type": "code",
   "execution_count": 2,
   "id": "c1f0a100",
   "metadata": {
    "ExecuteTime": {
     "end_time": "2021-11-02T22:12+0000",
     "start_time": "2021-11-02T22:12:50.941Z"
    }
   },
   "outputs": [],
   "source": [
    "//byte (1 byte en memòria - màxim valor és 127)\n",
    "byte b = 8;\n",
    "b = 127;\n",
    "//b = 128;"
   ]
  },
  {
   "cell_type": "code",
   "execution_count": 4,
   "id": "35fcbb48",
   "metadata": {
    "ExecuteTime": {
     "end_time": "2021-11-02T22:13+0000",
     "start_time": "2021-11-02T22:13:01.144Z"
    }
   },
   "outputs": [],
   "source": [
    "//short (2 bytes en memòria - màxim valor és 32767)\n",
    "short s = 600;\n",
    "//s = 33000;"
   ]
  },
  {
   "cell_type": "code",
   "execution_count": null,
   "id": "f78e1ce1",
   "metadata": {
    "ExecuteTime": {
     "end_time": "2021-10-11T16:29+0000",
     "start_time": "2021-10-11T16:29:49.711Z"
    }
   },
   "outputs": [],
   "source": [
    "//int (4 bytes en memòria)\n",
    "int n = 200060;\n",
    "print(n);"
   ]
  },
  {
   "cell_type": "code",
   "execution_count": null,
   "id": "2cc9d74f",
   "metadata": {
    "ExecuteTime": {
     "end_time": "2021-10-11T16:32+0000",
     "start_time": "2021-10-11T16:32:23.519Z"
    }
   },
   "outputs": [],
   "source": [
    "//long (8 bytes en memòria)\n",
    "long l = 2_147_483_647;\n",
    "long l = 2_147_483_648L;\n",
    "//long l = 2_147_483_648;"
   ]
  },
  {
   "cell_type": "code",
   "execution_count": null,
   "id": "c7f85faa",
   "metadata": {
    "ExecuteTime": {
     "end_time": "2021-10-11T16:35+0000",
     "start_time": "2021-10-11T16:35:03.455Z"
    }
   },
   "outputs": [],
   "source": [
    "//float (4 bytes en memòria) i double (8 bytes en memòria)\n",
    "float f = 3.14f;\n",
    "double d = 3.14;\n",
    "f = d;\n",
    "//f = (float)d; //cast"
   ]
  },
  {
   "cell_type": "code",
   "execution_count": null,
   "id": "587385bf",
   "metadata": {
    "ExecuteTime": {
     "end_time": "2021-10-11T16:37+0000",
     "start_time": "2021-10-11T16:37:46.158Z"
    }
   },
   "outputs": [],
   "source": [
    "//char (taula ascii / unicode)\n",
    "//a cada caràcter li correspon un enter a la taula\n",
    "//per exemple, al caràcter 'a' li correspon el número 97\n",
    "char c = 'a';\n",
    "println(c);\n",
    "c = 98;\n",
    "println(c);"
   ]
  },
  {
   "cell_type": "code",
   "execution_count": null,
   "id": "2e0e23dc",
   "metadata": {
    "ExecuteTime": {
     "end_time": "2021-10-11T16:39+0000",
     "start_time": "2021-10-11T16:39:19.743Z"
    }
   },
   "outputs": [],
   "source": [
    "//boolean (1 byte en memòria, només usa 1 bit)\n",
    "boolean bol = true;\n",
    "println(bol);\n",
    "bol = false;\n",
    "println(!bol);"
   ]
  },
  {
   "cell_type": "markdown",
   "id": "eac4d72e",
   "metadata": {},
   "source": [
    "## Declaració de variables\n",
    "\n",
    "Les variables, en Java, **han de ser declarades especificant el tipus de dada davant del nom** de la variable:\n",
    "\n",
    "```java\n",
    "int n;\n",
    "double d;\n",
    "char c;\n",
    "```\n",
    "\n",
    "Es poden declarar varies variables en la mateixa línia:\n",
    "\n",
    "```java\n",
    "int n1, n2, n3;\n",
    "```\n",
    "\n",
    "Les variables s'inicialitzen quan se'ls assigna un valor, que pot ser després de ser declarades (en algun punt posterior del programa) o en el mateix moment de ser declarades:\n",
    "\n",
    "```java\n",
    "int n;\n",
    "n = 10;\n",
    "int m = 5;\n",
    "\n",
    "double pi = 3.14, radi;\n",
    "radi = 5.0;\n",
    "```\n"
   ]
  },
  {
   "cell_type": "markdown",
   "id": "b4ee9433",
   "metadata": {},
   "source": [
    "## Arrays: creació, assignació i lectura."
   ]
  },
  {
   "cell_type": "code",
   "execution_count": null,
   "id": "b9a686d5",
   "metadata": {
    "ExecuteTime": {
     "end_time": "2021-10-11T18:16+0000",
     "start_time": "2021-10-11T18:16:44.591Z"
    }
   },
   "outputs": [],
   "source": [
    "int[] dorsals = {33,0,22,99};\n",
    "float[] altures = new float[4];\n",
    "altures[0] = 1.89f;\n",
    "altures[1] = 2.06f;\n",
    "altures[2] = 1.99f;\n",
    "altures[3] = 2.14f;\n",
    "String[] noms = new String[]{\"Smits\",\"Calates\",\"Abrines\",\"Oriola\"};\n",
    "\n",
    "println(noms);"
   ]
  },
  {
   "cell_type": "markdown",
   "id": "70cb63b7",
   "metadata": {},
   "source": [
    "## Bucles: while, for, foreach"
   ]
  },
  {
   "cell_type": "code",
   "execution_count": null,
   "id": "ec100c07",
   "metadata": {
    "ExecuteTime": {
     "end_time": "2021-10-11T18:16+0000",
     "start_time": "2021-10-11T18:16:50.687Z"
    }
   },
   "outputs": [],
   "source": [
    "for(int index = 0; index < dorsals.length; index++){\n",
    "    println(dorsals[index]);\n",
    "}"
   ]
  },
  {
   "cell_type": "code",
   "execution_count": null,
   "id": "1195d981",
   "metadata": {
    "ExecuteTime": {
     "end_time": "2021-10-11T18:16+0000",
     "start_time": "2021-10-11T18:16:51.759Z"
    }
   },
   "outputs": [],
   "source": [
    "int index = 0;\n",
    "while (index < altures.length){\n",
    "    println(altures[index]);\n",
    "    index++;\n",
    "}"
   ]
  },
  {
   "cell_type": "code",
   "execution_count": null,
   "id": "62ea4a88",
   "metadata": {
    "ExecuteTime": {
     "end_time": "2021-10-11T18:17+0000",
     "start_time": "2021-10-11T18:17:30.768Z"
    }
   },
   "outputs": [],
   "source": [
    "//foreach\n",
    "for(String nom : noms){\n",
    "    println(nom);\n",
    "}"
   ]
  },
  {
   "cell_type": "markdown",
   "id": "8848c8c9",
   "metadata": {},
   "source": [
    "## Condicionals: if, else if, else"
   ]
  },
  {
   "cell_type": "code",
   "execution_count": null,
   "id": "1ced4521",
   "metadata": {
    "ExecuteTime": {
     "end_time": "2021-10-11T18:21+0000",
     "start_time": "2021-10-11T18:21:03.904Z"
    }
   },
   "outputs": [],
   "source": [
    "boolean trobat = false;\n",
    "//Tenim el dorsal 99 al nostre equip?\n",
    "for(int dorsal : dorsals)\n",
    "    if(dorsal == 99)\n",
    "        trobat = true;\n",
    "\n",
    "if(trobat)\n",
    "    println(\"Sí tenim el dorsal 99 al nostre equip\");\n",
    "else\n",
    "    println(\"No tenim el dorsal 99 al nostre equip\");"
   ]
  },
  {
   "cell_type": "code",
   "execution_count": null,
   "id": "c6ba368b",
   "metadata": {
    "ExecuteTime": {
     "end_time": "2021-10-11T18:24+0000",
     "start_time": "2021-10-11T18:24:19.936Z"
    }
   },
   "outputs": [],
   "source": [
    "boolean trobat99 = false;\n",
    "//Tenim el dorsal 99 al nostre equip?\n",
    "for(int dorsal : dorsals)\n",
    "    if(dorsal == 99)\n",
    "        trobat99 = true;\n",
    "\n",
    "boolean trobat33 = false;\n",
    "//Tenim el dorsal 33 al nostre equip?\n",
    "for(int dorsal : dorsals)\n",
    "    if(dorsal == 33)\n",
    "        trobat33 = true;\n",
    "\n",
    "if(trobat99 && trobat33)\n",
    "    println(\"Sí tenim el dorsal 99 i també el 33 al nostre equip\");\n",
    "else if (trobat99)\n",
    "    println(\"Sí tenim el dorsal 99 al nostre equip, però no tenim el dorsal 33\");\n",
    "else if(trobat33)\n",
    "    println(\"Sí tenim el dorsal 33 al nostre equip, però no tenim el dorsal 99\");\n",
    "else \n",
    "    println(\"No tenim ni el dorsal 99 ni el 33 al nostre equip\");"
   ]
  },
  {
   "cell_type": "markdown",
   "id": "f478f0f8",
   "metadata": {},
   "source": [
    "## Memoria: heap, stack, permgen\n",
    "\n",
    "La memòria de la JVM està dividida en 3 àrees grans: \n",
    "\n",
    "- heap: és l'àrea on s'emmagatzemen tots els objectes\n",
    "- stack: és l'àrea on es van apilant els diferents mètodes que es van executant\n",
    "- permgen: és l'àrea de metadades de la JVM, on es guarden, entre d'altres, les classes (via ClassLoader)\n",
    "\n",
    "> Els literals dels tipus de dades primitius es guarden directament en l'espai corresponent reservat de memòria: si és una variable local, al stack, si és un atribut, amb l'objecte corresponent al heap.\n",
    "\n",
    "> Si parlem de tipus de dades **no** primitius, no es guarden els _\"valors\"_ sinó que es guarden al Stack les **referencies** (adreces de memòria al heap) a on el corresponent objecte està ubicat."
   ]
  },
  {
   "cell_type": "markdown",
   "id": "6bdee312",
   "metadata": {},
   "source": [
    "## Classes i objectes"
   ]
  },
  {
   "cell_type": "markdown",
   "id": "c607c337",
   "metadata": {},
   "source": [
    "Les classes són blocs de codi que agrupen atributs i mètodes.\n",
    "\n",
    "Les classes són plantilles que poden representar objectes del món real, com persones, cohets, taules, comptes bancaris, vacances, vaixells, etc...\n",
    "\n",
    "Cada classe definida en el nostre programa o predefinida en una llibreria de classes, **posa a la nostra disposició un nou tipus de dada** (no primitiu), de tipus **referència** (a la variable declarada amb aquest nou tipus de dada s'hi guardarà una referència a l'adreça de memòria on estarà guardat l'objecte).\n",
    "\n",
    "Els valors que poden guardar les variables declarades amb el nou tipus de dada (de la classe creada) són els **objectes** o **instàncies** de la classe, que es creen amb la paraula clau ```new```.\n",
    "\n",
    "Cada objecte creat amb ```new``` serà un cas concret d'allò que la classe representa. Per exemple, si una classe representa una plantilla per a una persona (```class Person{}```) un objecte d'aquesta classe serà un exemple particular d'una persona en concret (el Josep, la Maria, etc.)."
   ]
  },
  {
   "cell_type": "code",
   "execution_count": null,
   "id": "85d59874",
   "metadata": {
    "ExecuteTime": {
     "end_time": "2021-10-11T19:05+0000",
     "start_time": "2021-10-11T19:05:38.927Z"
    }
   },
   "outputs": [],
   "source": [
    "class Person {\n",
    "    //Atributs (defineixen l'estat de l'objecte)\n",
    "    String nom;\n",
    "    String dni;\n",
    "    int edat;\n",
    "    \n",
    "    //Mètodes (defineixen el comportament de l'objecte)\n",
    "    void parla(String missatge){\n",
    "        System.out.println(nom + \" diu: \" + missatge);\n",
    "    }\n",
    "    \n",
    "    void crida(String missatge){\n",
    "        System.out.println(nom + \" crida: \" + missatge.toUpperCase());\n",
    "    }\n",
    "    void dorm(){\n",
    "        System.out.println(nom + \" dorm: \" + \"ZZZZzzzzzzzzzzzzzzz.....\");\n",
    "    }        \n",
    "}\n",
    "\n",
    "//nous objectes de tipus Person que es carreguen a la memòria heap\n",
    "Person persona1 = new Person(); \n",
    "Person persona2 = new Person();\n",
    "\n",
    "//A les variables persona1 i persona2 no es guarden els objectes en sí, \n",
    "//es guarden les referències (adreces de memòria on estan els objectes)\n",
    "\n",
    "//Donem valors als atributs:\n",
    "persona1.nom = \"Josep\";\n",
    "persona2.nom = \"Laura\";\n",
    "\n",
    "persona1.parla(\"M'agrada Java\");\n",
    "persona1.crida(\"Programo tota la nit!!!\");\n",
    "persona1.dorm();\n",
    "println(\"\");\n",
    "persona2.parla(\"M'agrada Star Trek\");\n",
    "persona2.crida(\"Vull explorar l'univers\");\n",
    "persona2.dorm();\n"
   ]
  },
  {
   "cell_type": "markdown",
   "id": "5d4598ba",
   "metadata": {},
   "source": [
    "## Visibilitat\n",
    "\n",
    "Tant els atributs d'una classe, com els seus mètodes, com les classes en sí mateixes, poden ser accessibles o no des d'altres parts del programa.\n",
    "\n",
    "> Perquè un element (atribut, classe, mètode...) sigui accessible des de qualsevol part del nostre programa, cal donar-li el modificador de visibilitat ```public``` (tot i que des de Java 9 això s'ha d'aplicar al concepte de mòduls, i per tant és una mica més complexe).\n",
    "\n",
    "> Si volem que el nostre atribut o mètode **no** sigui accessible des de fora de la mateixa classe on estan declarats o definits, els afegirem el modificador de visibilitat ```private```\n",
    "\n",
    "> També hi ha les visibilitats _protected_ i _default_, però de moment no en parlarem."
   ]
  },
  {
   "cell_type": "code",
   "execution_count": null,
   "id": "1102de50",
   "metadata": {
    "ExecuteTime": {
     "end_time": "2021-10-11T19:19+0000",
     "start_time": "2021-10-11T19:19:11.888Z"
    }
   },
   "outputs": [],
   "source": [
    "public class Person {\n",
    "    //Atributs (defineixen l'estat de l'objecte)\n",
    "    private String nom;\n",
    "    private String dni;\n",
    "    private int edat;\n",
    "    \n",
    "    //Mètodes (defineixen el comportament de l'objecte)\n",
    "    public void parla(String missatge){\n",
    "        System.out.println(nom + \" diu: \" + missatge);\n",
    "    }\n",
    "    \n",
    "    public void crida(String missatge){\n",
    "        System.out.println(nom + \" crida: \" + missatge.toUpperCase());\n",
    "    }\n",
    "    public void dorm(){\n",
    "        System.out.println(nom + \" dorm: \" + \"ZZZZzzzzzzzzzzzzzzz.....\");\n",
    "    }        \n",
    "}"
   ]
  },
  {
   "cell_type": "markdown",
   "id": "6bbac717",
   "metadata": {},
   "source": [
    "> En la majoria dels casos, els atributs d'una classe seran privats, i els mètodes públics. A mesura que avancem en el curs, descobrireu per què això és així i aprendreu un concepte de programació important que hi està relacionat i que s'anomena **encapsulació**.\n",
    "\n",
    "Segons el disseny de la nostra aplicació o programa, també hi haurà casos (poquets, però en poden haver) en que hi hagi atributs públics. De mètodes privats en podrem veure també molts (només són per a ús intern de la classe, doncs **no** són accessibles des de fora de la pròpia classe)."
   ]
  },
  {
   "cell_type": "markdown",
   "id": "74f34101",
   "metadata": {},
   "source": [
    "## Getters i setters"
   ]
  },
  {
   "cell_type": "markdown",
   "id": "16c6f090",
   "metadata": {},
   "source": [
    "Si els atributs són privats, ja no podrem fer:\n",
    "\n",
    "```java\n",
    "persona1.nom = \"Josep\";\n",
    "persona2.nom = \"Laura\";\n",
    "```\n",
    "\n",
    "perquè hi estem intentant accedir des de fora de la classe, i no està permès.\n",
    "\n",
    "En aquests casos, caldrà definir uns mètodes especials anomenats _getters_ i _setters_. Veiem un exemple:"
   ]
  },
  {
   "cell_type": "code",
   "execution_count": null,
   "id": "05910a1d",
   "metadata": {
    "ExecuteTime": {
     "end_time": "2021-10-11T19:35+0000",
     "start_time": "2021-10-11T19:35:32.160Z"
    }
   },
   "outputs": [],
   "source": [
    "public class Person {\n",
    "    //Atributs (defineixen l'estat de l'objecte)\n",
    "    private String nom;\n",
    "    private String dni;\n",
    "    private int edat;\n",
    "    \n",
    "    //Getters    \n",
    "    public String getNom(){\n",
    "        return this.nom;\n",
    "    }\n",
    "    public String getDni(){\n",
    "        return this.dni;\n",
    "    }\n",
    "    public int getEdat(){\n",
    "        return this.edat;\n",
    "    }\n",
    "    \n",
    "    //Setters\n",
    "    public void setNom(String nom){\n",
    "        this.nom = nom;\n",
    "    }\n",
    "    public void setDni(String dni){\n",
    "        this.dni = dni;\n",
    "    }\n",
    "    public void setEdat(int edat){\n",
    "        this.edat = edat;\n",
    "    }\n",
    "    \n",
    "    //Mètodes (defineixen el comportament de l'objecte)\n",
    "    public void parla(String missatge){\n",
    "        System.out.println(nom + \" diu: \" + missatge);\n",
    "    }\n",
    "    \n",
    "    public void crida(String missatge){\n",
    "        System.out.println(nom + \" crida: \" + missatge.toUpperCase());\n",
    "    }\n",
    "    public void dorm(){\n",
    "        System.out.println(nom + \" dorm: \" + \"ZZZZzzzzzzzzzzzzzzz.....\");\n",
    "    }        \n",
    "}"
   ]
  },
  {
   "cell_type": "code",
   "execution_count": null,
   "id": "0c96463b",
   "metadata": {
    "ExecuteTime": {
     "end_time": "2021-10-11T19:37+0000",
     "start_time": "2021-10-11T19:37:33.792Z"
    }
   },
   "outputs": [],
   "source": [
    "Person persona1 = new Person(); \n",
    "Person persona2 = new Person();\n",
    "\n",
    "//Donem valors als atributs:\n",
    "persona1.setNom(\"Josep\");\n",
    "persona2.setNom(\"Laura\");\n",
    "\n",
    "System.out.println(\"Persona1 nom és: \" + persona1.getNom());\n",
    "System.out.println(\"Persona2 nom és: \" + persona2.getNom());"
   ]
  },
  {
   "cell_type": "markdown",
   "id": "6d6905b4",
   "metadata": {},
   "source": [
    "## Constructors\n",
    "\n",
    "Els contructors són un tipus especial de mètode que tota classe té. Serveixen per a crear (o construir) nous objectes de la classe, amb la paraula clau ```new```.\n",
    "\n",
    "> Tota classe té un constructor per defecte, encara que n'escribim cap. El constructor per defecte no té cap paràmetre.\n",
    "\n",
    "> El constructor per defecte només existeix si no n'escribim cap. Si n'afegim un a la classe, de constructor, de forma explícita, el constructor per defecte desapareix.\n",
    "\n",
    "> Es poden crear zero, un o molts constructors. Si no en creem cap, hi haurà el constructor per defecte.\n",
    "\n",
    "Exemples:"
   ]
  },
  {
   "cell_type": "code",
   "execution_count": 1,
   "id": "9dc5fa7b",
   "metadata": {
    "ExecuteTime": {
     "end_time": "2021-10-12T17:25+0000",
     "start_time": "2021-10-12T17:25:25.778Z"
    }
   },
   "outputs": [],
   "source": [
    "//Classe Person que només té el constructor per defecte\n",
    "\n",
    "public class Person {\n",
    "    private String nom;\n",
    "    private String dni;\n",
    "    private int edat;\n",
    "}\n",
    "\n",
    "//Fem ús del construtor per defecte per a crear\n",
    "//un nou objecte de tipus Person\n",
    "Person person1 = new Person();"
   ]
  },
  {
   "cell_type": "code",
   "execution_count": 5,
   "id": "4b536d5c",
   "metadata": {},
   "outputs": [
    {
     "name": "stdout",
     "output_type": "stream",
     "text": [
      "Laura\n"
     ]
    }
   ],
   "source": [
    "//Classe Person amb un constructor explícit\n",
    "\n",
    "public class Person {\n",
    "    private String nom;\n",
    "    private String dni;\n",
    "    private int edat;\n",
    "    \n",
    "    //Constructor\n",
    "    public Person(String nom){\n",
    "        this.nom = nom;\n",
    "    }\n",
    "    \n",
    "    //Getter\n",
    "    public String getNom(){\n",
    "        return this.nom;\n",
    "    }\n",
    "}\n",
    "\n",
    "//Usem el constructor definit explícitament per a crear un nou objecte\n",
    "Person person2 = new Person(\"Laura\");\n",
    "println(person2.getNom());\n",
    "\n",
    "//Si fem ús del construtor per defecte per a crear\n",
    "//un nou objecte de tipus Person, ens donarà error\n",
    "//(Ja no existeix)\n",
    "//Person person1 = new Person();"
   ]
  },
  {
   "cell_type": "code",
   "execution_count": 7,
   "id": "3479a2f2-40a8-4354-94cd-06fded3be79d",
   "metadata": {},
   "outputs": [
    {
     "name": "stdout",
     "output_type": "stream",
     "text": [
      "Persona 2 - Nom: Laura\n",
      "Persona 3 - Nom: Josep\n",
      "Persona 3 - Dni: 12345678J\n"
     ]
    }
   ],
   "source": [
    "//Classe Person amb tres constructor explícits\n",
    "\n",
    "public class Person {\n",
    "    private String nom;\n",
    "    private String dni;\n",
    "    private int edat;\n",
    "    \n",
    "    //Constructor 1\n",
    "    public Person(){}\n",
    "    \n",
    "    //Constructor 2\n",
    "    public Person(String nom){\n",
    "        this.nom = nom;\n",
    "    }\n",
    "    \n",
    "    //Constructor 3\n",
    "    public Person(String nom, String dni){\n",
    "        this.nom = nom;\n",
    "        this.dni = dni;\n",
    "    }\n",
    "    \n",
    "    //Getter\n",
    "    public String getNom(){\n",
    "        return this.nom;\n",
    "    }\n",
    "    public String getDni(){\n",
    "        return this.dni;\n",
    "    }\n",
    "}\n",
    "\n",
    "//Usem el constructor 0\n",
    "//(en aquest cas caldria definir setters i usar-los\n",
    "//per a establir valors als atributs)\n",
    "Person person1 = new Person();\n",
    "\n",
    "//Usem el constructor 1 \n",
    "Person person2 = new Person(\"Laura\");\n",
    "println(\"Persona 2 - Nom: \" + person2.getNom());\n",
    "\n",
    "//Usem el constructor 2\n",
    "Person person3 = new Person(\"Josep\", \"12345678J\");\n",
    "println(\"Persona 3 - Nom: \" + person3.getNom());\n",
    "println(\"Persona 3 - Dni: \" + person3.getDni());"
   ]
  },
  {
   "cell_type": "markdown",
   "id": "a9e95ce7-ee04-44c7-bbc0-d2dcfb83e549",
   "metadata": {},
   "source": [
    "> En cas que hi hagi diferents constructors, podrem usar el que vulguem o necessitem en cada moment.\n",
    "\n",
    "> Quan un mètode (qualsevol), com ara pot ser un constructor, apareix definit varies vegades, direm que **hi ha una sobrecàrrega** d'aquell mètode. Les diferents sobrecàrregues es diferencien pel nombre i / o tipus de paràmetres que tenen.\n",
    "\n",
    "Per exemple, la següent sobrecàrrega del constructor de Person **no seria vàlid** perquè tenen el mateix tipus (String) de paràmetre i nombre de paràmetres (un):\n",
    "\n",
    "```java\n",
    "//Constructor 1\n",
    "public Person(String nom){\n",
    "    this.nom = nom;\n",
    "}\n",
    "\n",
    "//Constructor 2 (NO VÀLID!!!)\n",
    "public Person(String dni){\n",
    "    this.dni = dni;\n",
    "}\n",
    "```"
   ]
  },
  {
   "cell_type": "markdown",
   "id": "83d6b285-411d-493a-b44d-39cacf4a07f2",
   "metadata": {},
   "source": [
    "## Variables d'instància i de classe"
   ]
  },
  {
   "cell_type": "markdown",
   "id": "c02da87f-c822-49a2-b0da-277439412c5d",
   "metadata": {},
   "source": [
    "Els atributs _normals_ que definim en una classe són **variables d'instància**: perquè els seus valors estan associats a un objecte o instància en concret, i canvien d'un objecte a un altre.\n",
    "\n",
    "Per exemple:"
   ]
  },
  {
   "cell_type": "code",
   "execution_count": 8,
   "id": "9a5ae62f-180d-409c-b4b2-8107943bc3f4",
   "metadata": {},
   "outputs": [
    {
     "name": "stdout",
     "output_type": "stream",
     "text": [
      "Anna\n",
      "Jordi\n"
     ]
    }
   ],
   "source": [
    "public class Person {\n",
    "    private String nom;\n",
    "\n",
    "    public Person(String nom){\n",
    "        this.nom = nom;\n",
    "    }\n",
    "    \n",
    "    public String getNom(){\n",
    "        return this.nom;\n",
    "    }\n",
    "}\n",
    "\n",
    "Person p1 = new Person(\"Anna\");\n",
    "Person p2 = new Person(\"Jordi\");\n",
    "\n",
    "//L'atribut nom de la classe person és una variable d'instància\n",
    "//doncs té un valor diferent per a cada instància p1 i p2:\n",
    "println(p1.getNom());\n",
    "println(p2.getNom());\n",
    "    "
   ]
  },
  {
   "cell_type": "markdown",
   "id": "3dbe6d0a-beba-44f3-b13e-5e445363d009",
   "metadata": {},
   "source": [
    "> En canvi, diem que un atribut és una **variable de classe** quan el valor que tingui (sigui quin sigui en cada moment) **és compartit per totes les instàncies o objectes**.\n",
    "\n",
    "> Una variable de classe pot ésser inicialitzada (assignar-li un valor) **sense necessitat de crear cap instància** de la classe.\n",
    "\n",
    "> Una variable de classe es declara amb la paraula clau ```static```.\n",
    "\n",
    "Exemple:"
   ]
  },
  {
   "cell_type": "code",
   "execution_count": 12,
   "id": "4da777df-669f-4a67-b252-06840fdb1cbf",
   "metadata": {},
   "outputs": [
    {
     "name": "stdout",
     "output_type": "stream",
     "text": [
      "Persones creades fins ara: 7\n",
      "Persones creades fins ara: 8 (des de person1)\n",
      "Persones creades fins ara: 8 (des de person2)\n",
      "Persones creades fins ara: 8 (des de la classe Person)\n"
     ]
    }
   ],
   "source": [
    "public class Person {\n",
    "    //variable de classe que guardarà quantes\n",
    "    //instàncies de persones s'han creat\n",
    "    //de forma acumulada al llarg del programa\n",
    "    public static int quantitatDePersones = 0;\n",
    "    \n",
    "    private String nom;\n",
    "\n",
    "    public Person(String nom){\n",
    "        this.nom = nom;\n",
    "        quantitatDePersones++;\n",
    "    }\n",
    "    \n",
    "    public String getNom(){\n",
    "        return this.nom;\n",
    "    }\n",
    "}\n",
    "\n",
    "Person person1 = new Person(\"Laura\");\n",
    "println(\"Persones creades fins ara: \" + person1.quantitatDePersones);\n",
    "Person person2 = new Person(\"Josep\");\n",
    "\n",
    "//La variable de classe té un valor compartit i igual per tots els objectes\n",
    "println(\"Persones creades fins ara: \" + person1.quantitatDePersones + \" (des de person1)\");\n",
    "println(\"Persones creades fins ara: \" + person2.quantitatDePersones + \" (des de person2)\");\n",
    "\n",
    "//La variable de classe es pot accedir directament des de la classe\n",
    "println(\"Persones creades fins ara: \" + Person.quantitatDePersones+ \" (des de la classe Person)\");\n",
    "\n",
    "//Si executeu repetidament aquesta cel·la del notebook, observareu com va\n",
    "//augmentant el número d'instàncies de Person creades"
   ]
  },
  {
   "cell_type": "markdown",
   "id": "d71fb12f-abf7-4e49-9ef4-71f58340817b",
   "metadata": {},
   "source": [
    "# Mètodes i mètodes estàtics\n",
    "\n",
    "Igual que amb els atributs, també poden haver-hi mètodes _estàtics_ (posant ```static``` al davant).\n",
    "\n",
    "> Un mètode estàtic es pot cridar directament des de la classe, no cal fer-ho des d'una instància o objecte en particular (tot i que també es pot cridar des d'un objecte - tot i que no és recomanable).\n",
    "\n",
    "Exemple:"
   ]
  },
  {
   "cell_type": "code",
   "execution_count": 16,
   "id": "50f54857-eee3-4157-be95-1996c980efba",
   "metadata": {},
   "outputs": [
    {
     "name": "stdout",
     "output_type": "stream",
     "text": [
      "Suma: 20\n",
      "Resta: 10\n",
      "Multiplicació: 75\n",
      "Divisio: 3\n",
      "Divisio per 0: 0\n"
     ]
    }
   ],
   "source": [
    "class Calculs {\n",
    "\n",
    "    public static int suma(int a, int b){\n",
    "        return a + b;\n",
    "    }\n",
    "    \n",
    "    public static int resta(int a, int b){\n",
    "        return a - b;\n",
    "    }\n",
    "\n",
    "    public static int multiplicacio(int a, int b){\n",
    "        return a * b;\n",
    "    }\n",
    "    \n",
    "    public static int divisio(int a, int b){\n",
    "        if(comprova(b))\n",
    "            return a / b;\n",
    "        else\n",
    "            return 0;\n",
    "    }\n",
    "    \n",
    "    private static boolean comprova(int n){\n",
    "        if(n != 0)\n",
    "            return true;\n",
    "        return false;\n",
    "    }\n",
    "    \n",
    "}\n",
    "\n",
    "int n1 = 15, n2 = 5;\n",
    "println(\"Suma: \" + Calculs.suma(n1,n2));\n",
    "println(\"Resta: \" + Calculs.resta(n1,n2));\n",
    "println(\"Multiplicació: \" + Calculs.multiplicacio(n1,n2));\n",
    "println(\"Divisio: \" + Calculs.divisio(n1,n2));\n",
    "\n",
    "//Si intentem dividir per 0, ens retorna 0\n",
    "println(\"Divisio per 0: \" + Calculs.divisio(n1,0));\n",
    "\n",
    "/*\n",
    "* Hem fet tots els càlculs sense crear cap objecte\n",
    "* ja que tots els mètodes (suma, resta, multiplicacio\n",
    "* divisio) són estàtics.\n",
    "*\n",
    "* Hi ha un mètode privat anomenat comprova\n",
    "* que només usem internament dins de la classe\n",
    "* (per això és privat)\n",
    "* Aquest mètode comprova, en ser usat des d'un\n",
    "* mètode estàtic (divisio) TAMBË HA DE SER ESTÀTIC:\n",
    "* \n",
    "* *** Des d'un mètode estàtic només es poden cridar altres\n",
    "* mètodes que també siguin estàtics ***\n",
    "*/"
   ]
  },
  {
   "cell_type": "markdown",
   "id": "f8fd0c3e-e3ea-495a-81c8-188f0fa3f6ca",
   "metadata": {},
   "source": [
    "## Tipus de dades referència"
   ]
  },
  {
   "cell_type": "markdown",
   "id": "9c72324b-d273-4499-87d0-de946d921128",
   "metadata": {},
   "source": [
    "> Totes les classes, creades per nosaltres, per un altre programador o que formin part d'una llibreria de classes, **ens permeten automàticament disposar d'un tipus de dades amb el mateix nom que té la classe**.\n",
    "\n",
    "Per exemple:\n",
    "\n",
    "```java\n",
    "\n",
    "class Person{}\n",
    "//Ens permet declarar variables amb el tipus de dada Person:\n",
    "Person p1, p2, p3;\n",
    "\n",
    "class Rocket{}\n",
    "//Ens permet declarar variables amb el tipus de dada Rocket:\n",
    "Rocket cohet;\n",
    "```"
   ]
  },
  {
   "cell_type": "markdown",
   "id": "8ee38bf7-9e6d-476c-88c9-40c2574d6a7e",
   "metadata": {},
   "source": [
    "En les noves variables declarades només li podrem assignar valors que siguin **objectes** concrets d'aquella classe, és a dir, per exemple:\n",
    "\n",
    "```java\n",
    "p1 = new Person();\n",
    "cohet = new Cohet();\n",
    "p2 = new Cohet(); //Error !!!\n",
    "```"
   ]
  },
  {
   "cell_type": "markdown",
   "id": "75f860d1-10bd-43a4-bd32-45185f14a799",
   "metadata": {},
   "source": [
    "> Així, creant tantes classes com necessitem, disposarem de tants nous tipus de dades com necessitem. Tots aquests tipus de dades comencen el seu nom amb una lletra majúscula (igual que el nom de la classe) en contraposició amb els noms dels tipus de dades primitius, que comencen tots per minúscula (int, double, boolean...)."
   ]
  },
  {
   "cell_type": "markdown",
   "id": "10b05537-3581-4341-a24d-93e7900889ea",
   "metadata": {},
   "source": [
    "> Els tipus de dades que provenen de crear classes són tipus de dades **no primitius** o tipus de dades **referència**. S'anomenen **referència** perquè la variable **no guarda l'objecte en sí** sinó que guarda l'adreça de memòria (_la referència_) on l'objecte està guardat."
   ]
  },
  {
   "cell_type": "markdown",
   "id": "6a6e9635-f044-481b-b9ab-14d733b1383b",
   "metadata": {},
   "source": [
    "### Paràmetres per valor i paràmetres per referència\n",
    "\n",
    "Els paràmetres de tipus de dades primitius que hi hagi en mètodes, seran substituits per **còpies de valors** en cridar els mètodes. \n",
    "\n",
    "> Si el valor passat al mètode en cridar-lo està guardat en una variable externa al mètode, el valor d'aquesta variable externa **no es veurà modificat** encara que dins del mètode es canvïi el valor del paràmetre.\n",
    "\n",
    "Exemple:"
   ]
  },
  {
   "cell_type": "code",
   "execution_count": 19,
   "id": "de859946-b0fc-4ea8-8933-e59b8d295633",
   "metadata": {},
   "outputs": [
    {
     "name": "stdout",
     "output_type": "stream",
     "text": [
      "n abans de cridar el mètode: 1\n",
      "Valor que retorna el mètode: 2\n",
      "n després de cridar el mètode: 1\n"
     ]
    }
   ],
   "source": [
    "int n = 1;\n",
    "int duplica(int a){\n",
    "    //modifiquem a\n",
    "    a = a * 2;\n",
    "    return a;\n",
    "}\n",
    "\n",
    "println(\"n abans de cridar el mètode: \" + n);\n",
    "\n",
    "//Cridem el mètode i passem n\n",
    "//es passarà un CÒPIA del valor de n\n",
    "//(el valor de n romandrà intacte)\n",
    "println(\"Valor que retorna el mètode: \" + duplica(n));\n",
    "\n",
    "println(\"n després de cridar el mètode: \" + n);\n"
   ]
  },
  {
   "cell_type": "markdown",
   "id": "41ec788c-d474-4355-924f-4097be975c27",
   "metadata": {},
   "source": [
    "> En canvi, quan passem una variable d'un tipus de dada **referència** (perquè el mètode té paràmetres de tipus de dades no primitius) no es passa una còpia, sinó que es passa una referència a l'adreça de memòria on està guardat l'objecte, i **qualsevol canvi que es faci a l'objecte dins del mètode també es veurà reflectit en tota variable externa al mètode que guardi la mateixa referència**.\n",
    "\n",
    "Exemple:"
   ]
  },
  {
   "cell_type": "code",
   "execution_count": 21,
   "id": "f4e0d9c9-4bbf-4a82-bd08-111de318cabf",
   "metadata": {},
   "outputs": [
    {
     "name": "stdout",
     "output_type": "stream",
     "text": [
      "Abans: 33\n",
      "Després: 34\n"
     ]
    }
   ],
   "source": [
    "class Person{\n",
    "    int age;\n",
    "}\n",
    "\n",
    "Person person = new Person();\n",
    "person.age = 33;\n",
    "\n",
    "void sumaUnAny(Person p){\n",
    "    p.age++;\n",
    "}\n",
    "\n",
    "//Edat de la persona person abans de cridar el mètode\n",
    "println(\"Abans: \" + person.age);\n",
    "//Cridem el mètode (passem una referència amb la variable externa person):\n",
    "sumaUnAny(person);\n",
    "//Edat de la persona person després de cridar el mètode\n",
    "println(\"Després: \" + person.age);"
   ]
  },
  {
   "cell_type": "code",
   "execution_count": null,
   "id": "199a05e5-ec23-4cf7-8869-60d59e0c5c2e",
   "metadata": {},
   "outputs": [],
   "source": []
  }
 ],
 "metadata": {
  "kernelspec": {
   "display_name": "Java 11",
   "language": "java",
   "name": "java"
  },
  "language_info": {
   "codemirror_mode": "java",
   "file_extension": ".jshell",
   "mimetype": "text/x-java-source",
   "name": "Java",
   "pygments_lexer": "java",
   "version": "11.0.11+9-Ubuntu-0ubuntu2.20.04"
  },
  "nbTranslate": {
   "displayLangs": [
    "*"
   ],
   "hotkey": "alt-t",
   "langInMainMenu": true,
   "sourceLang": "en",
   "targetLang": "ca",
   "useGoogleTranslate": true
  },
  "toc": {
   "base_numbering": 1,
   "nav_menu": {},
   "number_sections": true,
   "sideBar": true,
   "skip_h1_title": false,
   "title_cell": "Table of Contents",
   "title_sidebar": "Contents",
   "toc_cell": false,
   "toc_position": {},
   "toc_section_display": true,
   "toc_window_display": false
  },
  "varInspector": {
   "cols": {
    "lenName": 16,
    "lenType": 16,
    "lenVar": 40
   },
   "kernels_config": {
    "python": {
     "delete_cmd_postfix": "",
     "delete_cmd_prefix": "del ",
     "library": "var_list.py",
     "varRefreshCmd": "print(var_dic_list())"
    },
    "r": {
     "delete_cmd_postfix": ") ",
     "delete_cmd_prefix": "rm(",
     "library": "var_list.r",
     "varRefreshCmd": "cat(var_dic_list()) "
    }
   },
   "types_to_exclude": [
    "module",
    "function",
    "builtin_function_or_method",
    "instance",
    "_Feature"
   ],
   "window_display": false
  }
 },
 "nbformat": 4,
 "nbformat_minor": 5
}
